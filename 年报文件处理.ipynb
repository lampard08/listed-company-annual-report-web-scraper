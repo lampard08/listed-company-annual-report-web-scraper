{
 "cells": [
  {
   "cell_type": "code",
   "execution_count": 1,
   "id": "e463824f",
   "metadata": {},
   "outputs": [],
   "source": [
    "import os\n",
    "import pandas as pd\n",
    "import numpy as np\n",
    "import re\n",
    "import pdfplumber"
   ]
  },
  {
   "cell_type": "markdown",
   "id": "cec0ded2",
   "metadata": {},
   "source": [
    "## 1. 读取文件名"
   ]
  },
  {
   "cell_type": "code",
   "execution_count": 3,
   "id": "93210117",
   "metadata": {},
   "outputs": [],
   "source": [
    "# 定义原始 PDF 文件夹路径和目标 TXT 文件夹路径\n",
    "pdf_folder_path = r'C:\\Users\\Lin Weiran\\Desktop\\毕业论文\\年报PDF'\n",
    "txt_folder_path = r'C:\\Users\\Lin Weiran\\Desktop\\毕业论文\\年报TXT'"
   ]
  },
  {
   "cell_type": "code",
   "execution_count": 12,
   "id": "c2154888",
   "metadata": {},
   "outputs": [],
   "source": [
    "# 列出文件夹中的所有文件\n",
    "file_names = os.listdir(pdf_folder_path)\n",
    "# 创建一个空的DataFrame\n",
    "df = pd.DataFrame(columns=['filename','filepath'])\n",
    "\n",
    "# 遍历每个文件，提取文件名，并将其添加到DataFrame中\n",
    "for file_name in file_names:\n",
    "    file_path = os.path.join(pdf_folder_path, file_name)  # 构建完整的文件路径\n",
    "    filename = os.path.splitext(file_name)[0]  # 删除文件名的后缀\n",
    "    df = df._append({'filename': filename, 'filepath': file_path}, ignore_index=True)"
   ]
  },
  {
   "cell_type": "code",
   "execution_count": 16,
   "id": "e5ba0fd5",
   "metadata": {},
   "outputs": [
    {
     "data": {
      "text/html": [
       "<div>\n",
       "<style scoped>\n",
       "    .dataframe tbody tr th:only-of-type {\n",
       "        vertical-align: middle;\n",
       "    }\n",
       "\n",
       "    .dataframe tbody tr th {\n",
       "        vertical-align: top;\n",
       "    }\n",
       "\n",
       "    .dataframe thead th {\n",
       "        text-align: right;\n",
       "    }\n",
       "</style>\n",
       "<table border=\"1\" class=\"dataframe\">\n",
       "  <thead>\n",
       "    <tr style=\"text-align: right;\">\n",
       "      <th></th>\n",
       "      <th>filename</th>\n",
       "      <th>filepath</th>\n",
       "    </tr>\n",
       "  </thead>\n",
       "  <tbody>\n",
       "    <tr>\n",
       "      <th>12384</th>\n",
       "      <td>建科机械：2020年年度报告</td>\n",
       "      <td>C:\\Users\\Lin Weiran\\Desktop\\毕业论文\\年报PDF\\建科机械：20...</td>\n",
       "    </tr>\n",
       "    <tr>\n",
       "      <th>13608</th>\n",
       "      <td>攀钢钒钛：2019年年度报告</td>\n",
       "      <td>C:\\Users\\Lin Weiran\\Desktop\\毕业论文\\年报PDF\\攀钢钒钛：20...</td>\n",
       "    </tr>\n",
       "    <tr>\n",
       "      <th>18111</th>\n",
       "      <td>海立股份：2017年年度报告（修订版）</td>\n",
       "      <td>C:\\Users\\Lin Weiran\\Desktop\\毕业论文\\年报PDF\\海立股份：20...</td>\n",
       "    </tr>\n",
       "    <tr>\n",
       "      <th>10750</th>\n",
       "      <td>安纳达：2021年年度报告</td>\n",
       "      <td>C:\\Users\\Lin Weiran\\Desktop\\毕业论文\\年报PDF\\安纳达：202...</td>\n",
       "    </tr>\n",
       "    <tr>\n",
       "      <th>17706</th>\n",
       "      <td>浪莎股份：2014年年度报告</td>\n",
       "      <td>C:\\Users\\Lin Weiran\\Desktop\\毕业论文\\年报PDF\\浪莎股份：20...</td>\n",
       "    </tr>\n",
       "    <tr>\n",
       "      <th>11323</th>\n",
       "      <td>小崧股份：2022年年度报告</td>\n",
       "      <td>C:\\Users\\Lin Weiran\\Desktop\\毕业论文\\年报PDF\\小崧股份：20...</td>\n",
       "    </tr>\n",
       "    <tr>\n",
       "      <th>14600</th>\n",
       "      <td>昊华科技：昊华科技2020年年度报告</td>\n",
       "      <td>C:\\Users\\Lin Weiran\\Desktop\\毕业论文\\年报PDF\\昊华科技：昊华...</td>\n",
       "    </tr>\n",
       "    <tr>\n",
       "      <th>24383</th>\n",
       "      <td>金沃股份：2022年年度报告</td>\n",
       "      <td>C:\\Users\\Lin Weiran\\Desktop\\毕业论文\\年报PDF\\金沃股份：20...</td>\n",
       "    </tr>\n",
       "    <tr>\n",
       "      <th>11047</th>\n",
       "      <td>宝明科技：2022年年度报告</td>\n",
       "      <td>C:\\Users\\Lin Weiran\\Desktop\\毕业论文\\年报PDF\\宝明科技：20...</td>\n",
       "    </tr>\n",
       "    <tr>\n",
       "      <th>8851</th>\n",
       "      <td>复旦张江：上海复旦张江生物医药股份有限公司2020年年度报告</td>\n",
       "      <td>C:\\Users\\Lin Weiran\\Desktop\\毕业论文\\年报PDF\\复旦张江：上海...</td>\n",
       "    </tr>\n",
       "  </tbody>\n",
       "</table>\n",
       "</div>"
      ],
      "text/plain": [
       "                             filename  \\\n",
       "12384                  建科机械：2020年年度报告   \n",
       "13608                  攀钢钒钛：2019年年度报告   \n",
       "18111             海立股份：2017年年度报告（修订版）   \n",
       "10750                   安纳达：2021年年度报告   \n",
       "17706                  浪莎股份：2014年年度报告   \n",
       "11323                  小崧股份：2022年年度报告   \n",
       "14600              昊华科技：昊华科技2020年年度报告   \n",
       "24383                  金沃股份：2022年年度报告   \n",
       "11047                  宝明科技：2022年年度报告   \n",
       "8851   复旦张江：上海复旦张江生物医药股份有限公司2020年年度报告   \n",
       "\n",
       "                                                filepath  \n",
       "12384  C:\\Users\\Lin Weiran\\Desktop\\毕业论文\\年报PDF\\建科机械：20...  \n",
       "13608  C:\\Users\\Lin Weiran\\Desktop\\毕业论文\\年报PDF\\攀钢钒钛：20...  \n",
       "18111  C:\\Users\\Lin Weiran\\Desktop\\毕业论文\\年报PDF\\海立股份：20...  \n",
       "10750  C:\\Users\\Lin Weiran\\Desktop\\毕业论文\\年报PDF\\安纳达：202...  \n",
       "17706  C:\\Users\\Lin Weiran\\Desktop\\毕业论文\\年报PDF\\浪莎股份：20...  \n",
       "11323  C:\\Users\\Lin Weiran\\Desktop\\毕业论文\\年报PDF\\小崧股份：20...  \n",
       "14600  C:\\Users\\Lin Weiran\\Desktop\\毕业论文\\年报PDF\\昊华科技：昊华...  \n",
       "24383  C:\\Users\\Lin Weiran\\Desktop\\毕业论文\\年报PDF\\金沃股份：20...  \n",
       "11047  C:\\Users\\Lin Weiran\\Desktop\\毕业论文\\年报PDF\\宝明科技：20...  \n",
       "8851   C:\\Users\\Lin Weiran\\Desktop\\毕业论文\\年报PDF\\复旦张江：上海...  "
      ]
     },
     "execution_count": 16,
     "metadata": {},
     "output_type": "execute_result"
    }
   ],
   "source": [
    "df.sample(10)"
   ]
  },
  {
   "cell_type": "code",
   "execution_count": 19,
   "id": "ac8dead4",
   "metadata": {},
   "outputs": [],
   "source": [
    "# 替换全半角\n",
    "df['filename'] = df['filename'].str.replace('(', '（').str.replace(')', '）')"
   ]
  },
  {
   "cell_type": "code",
   "execution_count": 44,
   "id": "0dcf2db7",
   "metadata": {},
   "outputs": [
    {
     "name": "stderr",
     "output_type": "stream",
     "text": [
      "C:\\Users\\Lin Weiran\\AppData\\Local\\Temp\\ipykernel_11468\\3808572785.py:1: SettingWithCopyWarning: \n",
      "A value is trying to be set on a copy of a slice from a DataFrame.\n",
      "Try using .loc[row_indexer,col_indexer] = value instead\n",
      "\n",
      "See the caveats in the documentation: https://pandas.pydata.org/pandas-docs/stable/user_guide/indexing.html#returning-a-view-versus-a-copy\n",
      "  df['filename'] = df['filename'].str.replace('（1）','')\n"
     ]
    }
   ],
   "source": [
    "df['filename'] = df['filename'].str.replace('（1）','')"
   ]
  },
  {
   "cell_type": "code",
   "execution_count": 26,
   "id": "c15e98dc",
   "metadata": {},
   "outputs": [],
   "source": [
    "# 分割字符串\n",
    "df[['name','tmp']] = df['filename'].str.split('：',n=1,expand=True)"
   ]
  },
  {
   "cell_type": "code",
   "execution_count": 49,
   "id": "f2629343",
   "metadata": {},
   "outputs": [
    {
     "data": {
      "text/html": [
       "<div>\n",
       "<style scoped>\n",
       "    .dataframe tbody tr th:only-of-type {\n",
       "        vertical-align: middle;\n",
       "    }\n",
       "\n",
       "    .dataframe tbody tr th {\n",
       "        vertical-align: top;\n",
       "    }\n",
       "\n",
       "    .dataframe thead th {\n",
       "        text-align: right;\n",
       "    }\n",
       "</style>\n",
       "<table border=\"1\" class=\"dataframe\">\n",
       "  <thead>\n",
       "    <tr style=\"text-align: right;\">\n",
       "      <th></th>\n",
       "      <th>filename</th>\n",
       "      <th>filepath</th>\n",
       "      <th>name</th>\n",
       "      <th>tmp</th>\n",
       "      <th>year</th>\n",
       "      <th>correct</th>\n",
       "    </tr>\n",
       "  </thead>\n",
       "  <tbody>\n",
       "    <tr>\n",
       "      <th>26047</th>\n",
       "      <td>青海华鼎：2010年年度报告</td>\n",
       "      <td>C:\\Users\\Lin Weiran\\Desktop\\毕业论文\\年报PDF\\青海华鼎：20...</td>\n",
       "      <td>青海华鼎</td>\n",
       "      <td>2010年年度报告</td>\n",
       "      <td>2010</td>\n",
       "      <td></td>\n",
       "    </tr>\n",
       "    <tr>\n",
       "      <th>12807</th>\n",
       "      <td>德迈仕：2022年年度报告</td>\n",
       "      <td>C:\\Users\\Lin Weiran\\Desktop\\毕业论文\\年报PDF\\德迈仕：202...</td>\n",
       "      <td>德迈仕</td>\n",
       "      <td>2022年年度报告</td>\n",
       "      <td>2022</td>\n",
       "      <td></td>\n",
       "    </tr>\n",
       "    <tr>\n",
       "      <th>23376</th>\n",
       "      <td>路畅科技：2017年年度报告</td>\n",
       "      <td>C:\\Users\\Lin Weiran\\Desktop\\毕业论文\\年报PDF\\路畅科技：20...</td>\n",
       "      <td>路畅科技</td>\n",
       "      <td>2017年年度报告</td>\n",
       "      <td>2017</td>\n",
       "      <td></td>\n",
       "    </tr>\n",
       "    <tr>\n",
       "      <th>22579</th>\n",
       "      <td>蓝思科技：2022年年度报告（更新后）</td>\n",
       "      <td>C:\\Users\\Lin Weiran\\Desktop\\毕业论文\\年报PDF\\蓝思科技：20...</td>\n",
       "      <td>蓝思科技</td>\n",
       "      <td>2022年年度报告（更新后）</td>\n",
       "      <td>2022</td>\n",
       "      <td>更新后</td>\n",
       "    </tr>\n",
       "    <tr>\n",
       "      <th>14841</th>\n",
       "      <td>星网锐捷：2013年年度报告</td>\n",
       "      <td>C:\\Users\\Lin Weiran\\Desktop\\毕业论文\\年报PDF\\星网锐捷：20...</td>\n",
       "      <td>星网锐捷</td>\n",
       "      <td>2013年年度报告</td>\n",
       "      <td>2013</td>\n",
       "      <td></td>\n",
       "    </tr>\n",
       "    <tr>\n",
       "      <th>15707</th>\n",
       "      <td>柳钢股份：2016年年度报告</td>\n",
       "      <td>C:\\Users\\Lin Weiran\\Desktop\\毕业论文\\年报PDF\\柳钢股份：20...</td>\n",
       "      <td>柳钢股份</td>\n",
       "      <td>2016年年度报告</td>\n",
       "      <td>2016</td>\n",
       "      <td></td>\n",
       "    </tr>\n",
       "    <tr>\n",
       "      <th>15028</th>\n",
       "      <td>普利制药：2020年年度报告（更新后）</td>\n",
       "      <td>C:\\Users\\Lin Weiran\\Desktop\\毕业论文\\年报PDF\\普利制药：20...</td>\n",
       "      <td>普利制药</td>\n",
       "      <td>2020年年度报告（更新后）</td>\n",
       "      <td>2020</td>\n",
       "      <td>更新后</td>\n",
       "    </tr>\n",
       "    <tr>\n",
       "      <th>18769</th>\n",
       "      <td>灵康药业：2017年年度报告</td>\n",
       "      <td>C:\\Users\\Lin Weiran\\Desktop\\毕业论文\\年报PDF\\灵康药业：20...</td>\n",
       "      <td>灵康药业</td>\n",
       "      <td>2017年年度报告</td>\n",
       "      <td>2017</td>\n",
       "      <td></td>\n",
       "    </tr>\n",
       "    <tr>\n",
       "      <th>2995</th>\n",
       "      <td>久联发展：2010年年度报告</td>\n",
       "      <td>C:\\Users\\Lin Weiran\\Desktop\\毕业论文\\年报PDF\\久联发展：20...</td>\n",
       "      <td>久联发展</td>\n",
       "      <td>2010年年度报告</td>\n",
       "      <td>2010</td>\n",
       "      <td></td>\n",
       "    </tr>\n",
       "    <tr>\n",
       "      <th>14781</th>\n",
       "      <td>星帅尔：2022年年度报告</td>\n",
       "      <td>C:\\Users\\Lin Weiran\\Desktop\\毕业论文\\年报PDF\\星帅尔：202...</td>\n",
       "      <td>星帅尔</td>\n",
       "      <td>2022年年度报告</td>\n",
       "      <td>2022</td>\n",
       "      <td></td>\n",
       "    </tr>\n",
       "  </tbody>\n",
       "</table>\n",
       "</div>"
      ],
      "text/plain": [
       "                  filename                                           filepath  \\\n",
       "26047       青海华鼎：2010年年度报告  C:\\Users\\Lin Weiran\\Desktop\\毕业论文\\年报PDF\\青海华鼎：20...   \n",
       "12807        德迈仕：2022年年度报告  C:\\Users\\Lin Weiran\\Desktop\\毕业论文\\年报PDF\\德迈仕：202...   \n",
       "23376       路畅科技：2017年年度报告  C:\\Users\\Lin Weiran\\Desktop\\毕业论文\\年报PDF\\路畅科技：20...   \n",
       "22579  蓝思科技：2022年年度报告（更新后）  C:\\Users\\Lin Weiran\\Desktop\\毕业论文\\年报PDF\\蓝思科技：20...   \n",
       "14841       星网锐捷：2013年年度报告  C:\\Users\\Lin Weiran\\Desktop\\毕业论文\\年报PDF\\星网锐捷：20...   \n",
       "15707       柳钢股份：2016年年度报告  C:\\Users\\Lin Weiran\\Desktop\\毕业论文\\年报PDF\\柳钢股份：20...   \n",
       "15028  普利制药：2020年年度报告（更新后）  C:\\Users\\Lin Weiran\\Desktop\\毕业论文\\年报PDF\\普利制药：20...   \n",
       "18769       灵康药业：2017年年度报告  C:\\Users\\Lin Weiran\\Desktop\\毕业论文\\年报PDF\\灵康药业：20...   \n",
       "2995        久联发展：2010年年度报告  C:\\Users\\Lin Weiran\\Desktop\\毕业论文\\年报PDF\\久联发展：20...   \n",
       "14781        星帅尔：2022年年度报告  C:\\Users\\Lin Weiran\\Desktop\\毕业论文\\年报PDF\\星帅尔：202...   \n",
       "\n",
       "       name             tmp  year correct  \n",
       "26047  青海华鼎       2010年年度报告  2010          \n",
       "12807   德迈仕       2022年年度报告  2022          \n",
       "23376  路畅科技       2017年年度报告  2017          \n",
       "22579  蓝思科技  2022年年度报告（更新后）  2022     更新后  \n",
       "14841  星网锐捷       2013年年度报告  2013          \n",
       "15707  柳钢股份       2016年年度报告  2016          \n",
       "15028  普利制药  2020年年度报告（更新后）  2020     更新后  \n",
       "18769  灵康药业       2017年年度报告  2017          \n",
       "2995   久联发展       2010年年度报告  2010          \n",
       "14781   星帅尔       2022年年度报告  2022          "
      ]
     },
     "execution_count": 49,
     "metadata": {},
     "output_type": "execute_result"
    }
   ],
   "source": [
    "df.sample(10)"
   ]
  },
  {
   "cell_type": "code",
   "execution_count": 28,
   "id": "e17629ae",
   "metadata": {},
   "outputs": [],
   "source": [
    "# 提取年份\n",
    "df['year'] = df['filename'].str.extract(r'(2\\d{3})')"
   ]
  },
  {
   "cell_type": "code",
   "execution_count": 48,
   "id": "9a279e4b",
   "metadata": {},
   "outputs": [
    {
     "name": "stderr",
     "output_type": "stream",
     "text": [
      "C:\\Users\\Lin Weiran\\AppData\\Local\\Temp\\ipykernel_11468\\2225367944.py:2: SettingWithCopyWarning: \n",
      "A value is trying to be set on a copy of a slice from a DataFrame.\n",
      "Try using .loc[row_indexer,col_indexer] = value instead\n",
      "\n",
      "See the caveats in the documentation: https://pandas.pydata.org/pandas-docs/stable/user_guide/indexing.html#returning-a-view-versus-a-copy\n",
      "  df['correct']=df['filename'].apply(lambda x: re.findall(r'（(.*?)）', x)[0] if re.findall(r'（(.*?)）', x) else \"\")\n"
     ]
    }
   ],
   "source": [
    "# 提取修订信息\n",
    "df['correct']=df['filename'].apply(lambda x: re.findall(r'（(.*?)）', x)[0] if re.findall(r'（(.*?)）', x) else \"\")"
   ]
  },
  {
   "cell_type": "code",
   "execution_count": 50,
   "id": "e1afbc12",
   "metadata": {},
   "outputs": [],
   "source": [
    "df.to_excel(r'C:\\Users\\Lin Weiran\\Desktop\\毕业论文\\年报数据.xlsx',index=False)"
   ]
  },
  {
   "cell_type": "code",
   "execution_count": 35,
   "id": "6ff80b91",
   "metadata": {},
   "outputs": [],
   "source": [
    "# df=df[df['year']>'2009']"
   ]
  },
  {
   "cell_type": "code",
   "execution_count": 36,
   "id": "1b90c319",
   "metadata": {
    "collapsed": true
   },
   "outputs": [
    {
     "data": {
      "text/plain": [
       "year\n",
       "2010    1177\n",
       "2011    1312\n",
       "2012    1453\n",
       "2013    1484\n",
       "2014    1571\n",
       "2015    1691\n",
       "2016    1886\n",
       "2017    2266\n",
       "2018    2235\n",
       "2019    2307\n",
       "2020    2678\n",
       "2021    3198\n",
       "2022    3554\n",
       "2023     223\n",
       "Name: filename, dtype: int64"
      ]
     },
     "execution_count": 36,
     "metadata": {},
     "output_type": "execute_result"
    }
   ],
   "source": [
    "# df.groupby('year')['filename'].count()"
   ]
  },
  {
   "cell_type": "code",
   "execution_count": 3,
   "id": "9e66dc1b",
   "metadata": {},
   "outputs": [],
   "source": [
    "# # 确保目标文件夹存在，如果不存在则创建\n",
    "# if not os.path.exists(txt_folder_path):\n",
    "#     os.makedirs(txt_folder_path)"
   ]
  },
  {
   "cell_type": "code",
   "execution_count": 9,
   "id": "32984a2e",
   "metadata": {},
   "outputs": [
    {
     "name": "stdout",
     "output_type": "stream",
     "text": [
      "Converted C:\\Users\\Lin Weiran\\Desktop\\毕业论文\\年报PDF\\博雅生物：2023年年度报告.PDF to C:\\Users\\Lin Weiran\\Desktop\\毕业论文\\年报TXT\\博雅生物：2023年年度报告.txt\n",
      "Converted C:\\Users\\Lin Weiran\\Desktop\\毕业论文\\年报PDF\\海螺新材：2023年年度报告.PDF to C:\\Users\\Lin Weiran\\Desktop\\毕业论文\\年报TXT\\海螺新材：2023年年度报告.txt\n",
      "Conversion completed.\n"
     ]
    }
   ],
   "source": [
    "# # 遍历 PDF 文件夹中的每个文件\n",
    "# for filename in os.listdir(pdf_folder_path):\n",
    "#     pdf_file_path = os.path.join(pdf_folder_path, filename)\n",
    "#     txt_file_path = os.path.join(txt_folder_path, os.path.splitext(filename)[0] + '.txt')\n",
    "#     # 打开 PDF 文件\n",
    "#     with pdfplumber.open(pdf_file_path) as pdf:\n",
    "#         text = ''\n",
    "#         # 逐页读取文本并追加到 text 变量中\n",
    "#         for page in pdf.pages:\n",
    "#             text += page.extract_text()\n",
    "        \n",
    "#         pattern = r'第四节[\\s\\S]*?管理层讨论与分析'\n",
    "#         match = re.search(pattern, text)\n",
    "#         if match:\n",
    "#             content = match.group()\n",
    "#         else:\n",
    "#             content = text\n",
    "#             print('未找到')\n",
    "\n",
    "#     # 将文本写入到对应的 TXT 文件中\n",
    "#     with open(txt_file_path, 'w', encoding='utf-8') as txt_file:\n",
    "#         txt_file.write(content)\n",
    "\n",
    "#     print(f\"Converted {pdf_file_path} to {txt_file_path}\")\n",
    "\n",
    "# print(\"Conversion completed.\")"
   ]
  },
  {
   "cell_type": "code",
   "execution_count": null,
   "id": "283c88a5",
   "metadata": {},
   "outputs": [],
   "source": []
  }
 ],
 "metadata": {
  "kernelspec": {
   "display_name": "base",
   "language": "python",
   "name": "python3"
  },
  "language_info": {
   "codemirror_mode": {
    "name": "ipython",
    "version": 3
   },
   "file_extension": ".py",
   "mimetype": "text/x-python",
   "name": "python",
   "nbconvert_exporter": "python",
   "pygments_lexer": "ipython3",
   "version": "3.11.5"
  }
 },
 "nbformat": 4,
 "nbformat_minor": 5
}
