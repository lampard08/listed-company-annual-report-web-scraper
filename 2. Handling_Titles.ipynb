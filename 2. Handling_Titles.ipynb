{
 "cells": [
  {
   "cell_type": "markdown",
   "metadata": {},
   "source": [
    "# Handling Titles\n"
   ]
  },
  {
   "cell_type": "markdown",
   "metadata": {},
   "source": [
    "**Objective**: \n",
    "1. Extract `year` from title to build a new composite primary key: **(code, year)**\n",
    "2. Remove Duplicates: \n",
    "   - Delete english versions\n",
    "   - Deal with *Revision*: only keep the revised version for each (code,year)（更正后/更新后）\n",
    "3. Form new data structure:\n",
    "   - **code**\n",
    "   - **year**\n",
    "   - name\n",
    "   - link"
   ]
  },
  {
   "cell_type": "code",
   "execution_count": null,
   "metadata": {},
   "outputs": [],
   "source": [
    "import pandas as pd\n",
    "import warnings\n",
    "warnings.filterwarnings('ignore')"
   ]
  },
  {
   "cell_type": "code",
   "execution_count": 44,
   "metadata": {},
   "outputs": [],
   "source": [
    "# load sample data (first 10 pages)\n",
    "df = pd.read_csv('./Data/annual_report_10pages.csv')"
   ]
  },
  {
   "cell_type": "code",
   "execution_count": 45,
   "metadata": {},
   "outputs": [
    {
     "data": {
      "application/vnd.microsoft.datawrangler.viewer.v0+json": {
       "columns": [
        {
         "name": "index",
         "rawType": "int64",
         "type": "integer"
        },
        {
         "name": "code",
         "rawType": "object",
         "type": "string"
        },
        {
         "name": "name",
         "rawType": "object",
         "type": "string"
        },
        {
         "name": "title",
         "rawType": "object",
         "type": "string"
        },
        {
         "name": "link",
         "rawType": "object",
         "type": "string"
        }
       ],
       "conversionMethod": "pd.DataFrame",
       "ref": "64776103-0a78-4f22-ab11-d18290831568",
       "rows": [
        [
         "0",
         "603019",
         "中科曙光",
         "中科曙光2024年年度报告",
         "http://www.cninfo.com.cn/new/disclosure/detail?stockCode=603019&announcementId=1222707755&orgId=9900023134&announcementTime=2025-03-04"
        ],
        [
         "1",
         "872808",
         "曙光数创",
         "2024年年度报告",
         "http://www.cninfo.com.cn/new/disclosure/detail?stockCode=872808&announcementId=1222707371&orgId=gfbj0872808&announcementTime=2025-03-03"
        ],
        [
         "2",
         "300353",
         "东土科技",
         "2024年年度报告",
         "http://www.cninfo.com.cn/new/disclosure/detail?stockCode=300353&announcementId=1222694710&orgId=9900006124&announcementTime=2025-03-03"
        ],
        [
         "3",
         "000063",
         "中兴通讯",
         "2024年年度报告",
         "http://www.cninfo.com.cn/new/disclosure/detail?stockCode=000063&announcementId=1222675749&orgId=gssz0000063&announcementTime=2025-02-28"
        ],
        [
         "4",
         "688041",
         "海光信息",
         "海光信息技术股份有限公司2024年年度报告",
         "http://www.cninfo.com.cn/new/disclosure/detail?stockCode=688041&announcementId=1222675682&orgId=9900048365&announcementTime=2025-02-28"
        ],
        [
         "5",
         "300437",
         "清水源",
         "河南清水源科技股份有限公司2023年年度报告（更正后）",
         "http://www.cninfo.com.cn/new/disclosure/detail?stockCode=300437&announcementId=1222674726&orgId=9900023933&announcementTime=2025-02-28"
        ],
        [
         "6",
         "300437",
         "清水源",
         "河南清水源科技股份有限公司2022年年度报告（更正后）",
         "http://www.cninfo.com.cn/new/disclosure/detail?stockCode=300437&announcementId=1222674722&orgId=9900023933&announcementTime=2025-02-28"
        ],
        [
         "7",
         "300437",
         "清水源",
         "河南清水源科技股份有限公司2018年年度报告全文（更正后）",
         "http://www.cninfo.com.cn/new/disclosure/detail?stockCode=300437&announcementId=1222674729&orgId=9900023933&announcementTime=2025-02-28"
        ],
        [
         "8",
         "300437",
         "清水源",
         "河南清水源科技股份有限公司2017年年度报告全文（更正后）",
         "http://www.cninfo.com.cn/new/disclosure/detail?stockCode=300437&announcementId=1222674715&orgId=9900023933&announcementTime=2025-02-28"
        ],
        [
         "9",
         "300437",
         "清水源",
         "河南清水源科技股份有限公司2021年年度报告全文（更正后）",
         "http://www.cninfo.com.cn/new/disclosure/detail?stockCode=300437&announcementId=1222674716&orgId=9900023933&announcementTime=2025-02-28"
        ],
        [
         "10",
         "300437",
         "清水源",
         "河南清水源科技股份有限公司2020年年度报告全文（更正后）",
         "http://www.cninfo.com.cn/new/disclosure/detail?stockCode=300437&announcementId=1222674713&orgId=9900023933&announcementTime=2025-02-28"
        ],
        [
         "11",
         "300437",
         "清水源",
         "河南清水源科技股份有限公司2019年年度报告全文（更正后）",
         "http://www.cninfo.com.cn/new/disclosure/detail?stockCode=300437&announcementId=1222674710&orgId=9900023933&announcementTime=2025-02-28"
        ],
        [
         "12",
         "300437",
         "清水源",
         "河南清水源科技股份有限公司2016年年度报告全文（更正后）",
         "http://www.cninfo.com.cn/new/disclosure/detail?stockCode=300437&announcementId=1222674709&orgId=9900023933&announcementTime=2025-02-28"
        ],
        [
         "13",
         "600506",
         "统一股份",
         "统一低碳科技（新疆）股份有限公司2024年年度报告",
         "http://www.cninfo.com.cn/new/disclosure/detail?stockCode=600506&announcementId=1222673452&orgId=gssh0600506&announcementTime=2025-02-27"
        ],
        [
         "14",
         "001207",
         "联科科技",
         "2024年年度报告",
         "http://www.cninfo.com.cn/new/disclosure/detail?stockCode=001207&announcementId=1222663605&orgId=9900041710&announcementTime=2025-02-27"
        ],
        [
         "15",
         "603019",
         "中科曙光",
         "中科曙光2024年年度报告",
         "http://www.cninfo.com.cn/new/disclosure/detail?stockCode=603019&announcementId=1222707755&orgId=9900023134&announcementTime=2025-03-04"
        ],
        [
         "16",
         "872808",
         "曙光数创",
         "2024年年度报告",
         "http://www.cninfo.com.cn/new/disclosure/detail?stockCode=872808&announcementId=1222707371&orgId=gfbj0872808&announcementTime=2025-03-03"
        ],
        [
         "17",
         "300353",
         "东土科技",
         "2024年年度报告",
         "http://www.cninfo.com.cn/new/disclosure/detail?stockCode=300353&announcementId=1222694710&orgId=9900006124&announcementTime=2025-03-03"
        ],
        [
         "18",
         "000063",
         "中兴通讯",
         "2024年年度报告",
         "http://www.cninfo.com.cn/new/disclosure/detail?stockCode=002138&announcementId=1222663258&orgId=9900003163&announcementTime=2025-02-27"
        ],
        [
         "19",
         "002138",
         "顺络电子",
         "2024年年度报告",
         "http://www.cninfo.com.cn/new/disclosure/detail?stockCode=002138&announcementId=1222663234&orgId=9900003163&announcementTime=2025-02-27"
        ],
        [
         "20",
         "605077",
         "华康股份",
         "华康股份2024年年度报告",
         "http://www.cninfo.com.cn/new/disclosure/detail?stockCode=605077&announcementId=1222662617&orgId=9900039807&announcementTime=2025-02-27"
        ],
        [
         "21",
         "300842",
         "帝科股份",
         "2024年年度报告",
         "http://www.cninfo.com.cn/new/disclosure/detail?stockCode=300842&announcementId=1222662510&orgId=9900038394&announcementTime=2025-02-27"
        ],
        [
         "22",
         "002162",
         "悦心健康",
         "2024年年度报告",
         "http://www.cninfo.com.cn/new/disclosure/detail?stockCode=002162&announcementId=1222661912&orgId=9900003445&announcementTime=2025-02-27"
        ],
        [
         "23",
         "603009",
         "北特科技",
         "北特科技2024年年度报告",
         "http://www.cninfo.com.cn/new/disclosure/detail?stockCode=603009&announcementId=1222661481&orgId=9900022982&announcementTime=2025-02-27"
        ],
        [
         "24",
         "688082",
         "盛美上海",
         "2024年年度报告",
         "http://www.cninfo.com.cn/new/disclosure/detail?stockCode=688082&announcementId=1222651596&orgId=nssc1000455&announcementTime=2025-02-26"
        ],
        [
         "25",
         "002675",
         "东诚药业",
         "2024年年度报告",
         "http://www.cninfo.com.cn/new/disclosure/detail?stockCode=002675&announcementId=1222651114&orgId=9900022707&announcementTime=2025-02-26"
        ],
        [
         "26",
         "603196",
         "日播时尚",
         "日播时尚2024年年度报告",
         "http://www.cninfo.com.cn/new/disclosure/detail?stockCode=603196&announcementId=1222637762&orgId=9900031491&announcementTime=2025-02-25"
        ],
        [
         "27",
         "603050",
         "科林电气",
         "科林电气 2024年年度报告",
         "http://www.cninfo.com.cn/new/disclosure/detail?stockCode=603050&announcementId=1222627863&orgId=9900023860&announcementTime=2025-02-24"
        ],
        [
         "28",
         "301522",
         "上大股份",
         "2024年年度报告",
         "http://www.cninfo.com.cn/new/disclosure/detail?stockCode=301522&announcementId=1222627492&orgId=9900056251&announcementTime=2025-02-24"
        ],
        [
         "29",
         "600535",
         "天士力",
         "天士力2024年年度报告",
         "http://www.cninfo.com.cn/new/disclosure/detail?stockCode=600535&announcementId=1222626583&orgId=gssh0600535&announcementTime=2025-02-24"
        ],
        [
         "30",
         "300708",
         "聚灿光电",
         "2024年年度报告",
         "http://www.cninfo.com.cn/new/disclosure/detail?stockCode=300708&announcementId=1222431163&orgId=9900031433&announcementTime=2025-01-24"
        ],
        [
         "31",
         "688100",
         "威胜信息",
         "2024年年度报告",
         "http://www.cninfo.com.cn/new/disclosure/detail?stockCode=688100&announcementId=1222663570&orgId=9900039047&announcementTime=2025-02-27"
        ],
        [
         "32",
         "002271",
         "东方雨虹",
         "2024年年度报告",
         "http://www.cninfo.com.cn/new/disclosure/detail?stockCode=002271&announcementId=1222663514&orgId=9900005238&announcementTime=2025-02-27"
        ],
        [
         "33",
         "600299",
         "安迪苏",
         "安迪苏2024年年度报告",
         "http://www.cninfo.com.cn/new/disclosure/detail?stockCode=600299&announcementId=1222663425&orgId=gssh0600299&announcementTime=2025-02-27"
        ],
        [
         "34",
         "002138",
         "顺络电子",
         "2024年年度报告",
         "http://www.cninfo.com.cn/new/disclosure/detail?stockCode=002138&announcementId=1222663234&orgId=9900003163&announcementTime=2025-02-27"
        ],
        [
         "35",
         "300632",
         "光莆股份",
         "2023年年度报告（更正后）",
         "http://www.cninfo.com.cn/new/disclosure/detail?stockCode=300632&announcementId=1222115086&orgId=gfbj0430568&announcementTime=2024-12-23"
        ],
        [
         "36",
         "300632",
         "光莆股份",
         "2022年年度报告（更正后）",
         "http://www.cninfo.com.cn/new/disclosure/detail?stockCode=300632&announcementId=1222115078&orgId=gfbj0430568&announcementTime=2024-12-23"
        ],
        [
         "37",
         "873576",
         "天力复合",
         "2023年年度报告（更正公告）",
         "http://www.cninfo.com.cn/new/disclosure/detail?stockCode=873576&announcementId=1221941789&orgId=gfbj0873576&announcementTime=2024-12-04"
        ],
        [
         "38",
         "873576",
         "天力复合",
         "2023年年度报告（更正后）",
         "http://www.cninfo.com.cn/new/disclosure/detail?stockCode=873576&announcementId=1221941782&orgId=gfbj0873576&announcementTime=2024-12-04"
        ],
        [
         "39",
         "002097",
         "山河智能",
         "2023年年度报告全文（更新后）",
         "http://www.cninfo.com.cn/new/disclosure/detail?stockCode=002097&announcementId=1221570452&orgId=9900001621&announcementTime=2024-10-30"
        ],
        [
         "40",
         "002097",
         "山河智能",
         "2021年年度报告全文（更新后）",
         "http://www.cninfo.com.cn/new/disclosure/detail?stockCode=002097&announcementId=1221570442&orgId=9900001621&announcementTime=2024-10-30"
        ],
        [
         "41",
         "002097",
         "山河智能",
         "2020年年度报告全文（更新后）",
         "http://www.cninfo.com.cn/new/disclosure/detail?stockCode=002097&announcementId=1221570439&orgId=9900001621&announcementTime=2024-10-30"
        ],
        [
         "42",
         "002097",
         "山河智能",
         "2022年年度报告（更新后）",
         "http://www.cninfo.com.cn/new/disclosure/detail?stockCode=002097&announcementId=1221570432&orgId=9900001621&announcementTime=2024-10-30"
        ],
        [
         "43",
         "002825",
         "纳尔股份",
         "上海纳尔实业股份有限公司2023年年度报告(更正后)",
         "http://www.cninfo.com.cn/new/disclosure/detail?stockCode=002825&announcementId=1221523417&orgId=9900028910&announcementTime=2024-10-27"
        ],
        [
         "44",
         "002413",
         "雷科防务",
         "2023年年度报告（更新后）",
         "http://www.cninfo.com.cn/new/disclosure/detail?stockCode=002413&announcementId=1221489979&orgId=9900012690&announcementTime=2024-10-23"
        ],
        [
         "45",
         "688516",
         "奥特维",
         "无锡奥特维科技股份有限公司2024年半年度报告英文版",
         "http://www.cninfo.com.cn/new/disclosure/detail?stockCode=688516&announcementId=1221474216&orgId=gfbj0836288&announcementTime=2024-10-22"
        ],
        [
         "46",
         "603839",
         "安正时尚",
         "安正时尚集团股份有限公司2023年年度报告（更正后）",
         "http://www.cninfo.com.cn/new/disclosure/detail?stockCode=603839&announcementId=1221258604&orgId=9900030003&announcementTime=2024-09-20"
        ],
        [
         "47",
         "002569",
         "ST步森",
         "2023年年度报告（补充更正后）",
         "http://www.cninfo.com.cn/new/disclosure/detail?stockCode=002569&announcementId=1221158964&orgId=9900019034&announcementTime=2024-09-06"
        ],
        [
         "48",
         "002569",
         "ST步森",
         "2022年年度报告（补充更正后）",
         "http://www.cninfo.com.cn/new/disclosure/detail?stockCode=002569&announcementId=1221158959&orgId=9900019034&announcementTime=2024-09-06"
        ],
        [
         "49",
         "002569",
         "ST步森",
         "2021年年度报告全文（补充更正后）",
         "http://www.cninfo.com.cn/new/disclosure/detail?stockCode=002569&announcementId=1221158953&orgId=9900019034&announcementTime=2024-09-06"
        ]
       ],
       "shape": {
        "columns": 4,
        "rows": 228
       }
      },
      "text/html": [
       "<div>\n",
       "<style scoped>\n",
       "    .dataframe tbody tr th:only-of-type {\n",
       "        vertical-align: middle;\n",
       "    }\n",
       "\n",
       "    .dataframe tbody tr th {\n",
       "        vertical-align: top;\n",
       "    }\n",
       "\n",
       "    .dataframe thead th {\n",
       "        text-align: right;\n",
       "    }\n",
       "</style>\n",
       "<table border=\"1\" class=\"dataframe\">\n",
       "  <thead>\n",
       "    <tr style=\"text-align: right;\">\n",
       "      <th></th>\n",
       "      <th>code</th>\n",
       "      <th>name</th>\n",
       "      <th>title</th>\n",
       "      <th>link</th>\n",
       "    </tr>\n",
       "  </thead>\n",
       "  <tbody>\n",
       "    <tr>\n",
       "      <th>0</th>\n",
       "      <td>603019</td>\n",
       "      <td>中科曙光</td>\n",
       "      <td>中科曙光2024年年度报告</td>\n",
       "      <td>http://www.cninfo.com.cn/new/disclosure/detail...</td>\n",
       "    </tr>\n",
       "    <tr>\n",
       "      <th>1</th>\n",
       "      <td>872808</td>\n",
       "      <td>曙光数创</td>\n",
       "      <td>2024年年度报告</td>\n",
       "      <td>http://www.cninfo.com.cn/new/disclosure/detail...</td>\n",
       "    </tr>\n",
       "    <tr>\n",
       "      <th>2</th>\n",
       "      <td>300353</td>\n",
       "      <td>东土科技</td>\n",
       "      <td>2024年年度报告</td>\n",
       "      <td>http://www.cninfo.com.cn/new/disclosure/detail...</td>\n",
       "    </tr>\n",
       "    <tr>\n",
       "      <th>3</th>\n",
       "      <td>000063</td>\n",
       "      <td>中兴通讯</td>\n",
       "      <td>2024年年度报告</td>\n",
       "      <td>http://www.cninfo.com.cn/new/disclosure/detail...</td>\n",
       "    </tr>\n",
       "    <tr>\n",
       "      <th>4</th>\n",
       "      <td>688041</td>\n",
       "      <td>海光信息</td>\n",
       "      <td>海光信息技术股份有限公司2024年年度报告</td>\n",
       "      <td>http://www.cninfo.com.cn/new/disclosure/detail...</td>\n",
       "    </tr>\n",
       "    <tr>\n",
       "      <th>...</th>\n",
       "      <td>...</td>\n",
       "      <td>...</td>\n",
       "      <td>...</td>\n",
       "      <td>...</td>\n",
       "    </tr>\n",
       "    <tr>\n",
       "      <th>223</th>\n",
       "      <td>603008</td>\n",
       "      <td>喜临门</td>\n",
       "      <td>喜临门家具股份有限公司2023年年度报告（更正后）</td>\n",
       "      <td>http://www.cninfo.com.cn/new/disclosure/detail...</td>\n",
       "    </tr>\n",
       "    <tr>\n",
       "      <th>224</th>\n",
       "      <td>300398</td>\n",
       "      <td>飞凯材料</td>\n",
       "      <td>2023年年度报告（更新后）</td>\n",
       "      <td>http://www.cninfo.com.cn/new/disclosure/detail...</td>\n",
       "    </tr>\n",
       "    <tr>\n",
       "      <th>225</th>\n",
       "      <td>300398</td>\n",
       "      <td>飞凯材料</td>\n",
       "      <td>2021年年度报告（更正后）</td>\n",
       "      <td>http://www.cninfo.com.cn/new/disclosure/detail...</td>\n",
       "    </tr>\n",
       "    <tr>\n",
       "      <th>226</th>\n",
       "      <td>300398</td>\n",
       "      <td>飞凯材料</td>\n",
       "      <td>2022年年度报告（更正后）</td>\n",
       "      <td>http://www.cninfo.com.cn/new/disclosure/detail...</td>\n",
       "    </tr>\n",
       "    <tr>\n",
       "      <th>227</th>\n",
       "      <td>603685</td>\n",
       "      <td>晨丰科技</td>\n",
       "      <td>晨丰科技2023年年度报告全文（修订版）</td>\n",
       "      <td>http://www.cninfo.com.cn/new/disclosure/detail...</td>\n",
       "    </tr>\n",
       "  </tbody>\n",
       "</table>\n",
       "<p>228 rows × 4 columns</p>\n",
       "</div>"
      ],
      "text/plain": [
       "       code  name                      title  \\\n",
       "0    603019  中科曙光              中科曙光2024年年度报告   \n",
       "1    872808  曙光数创                  2024年年度报告   \n",
       "2    300353  东土科技                  2024年年度报告   \n",
       "3    000063  中兴通讯                  2024年年度报告   \n",
       "4    688041  海光信息      海光信息技术股份有限公司2024年年度报告   \n",
       "..      ...   ...                        ...   \n",
       "223  603008   喜临门  喜临门家具股份有限公司2023年年度报告（更正后）   \n",
       "224  300398  飞凯材料             2023年年度报告（更新后）   \n",
       "225  300398  飞凯材料             2021年年度报告（更正后）   \n",
       "226  300398  飞凯材料             2022年年度报告（更正后）   \n",
       "227  603685  晨丰科技       晨丰科技2023年年度报告全文（修订版）   \n",
       "\n",
       "                                                  link  \n",
       "0    http://www.cninfo.com.cn/new/disclosure/detail...  \n",
       "1    http://www.cninfo.com.cn/new/disclosure/detail...  \n",
       "2    http://www.cninfo.com.cn/new/disclosure/detail...  \n",
       "3    http://www.cninfo.com.cn/new/disclosure/detail...  \n",
       "4    http://www.cninfo.com.cn/new/disclosure/detail...  \n",
       "..                                                 ...  \n",
       "223  http://www.cninfo.com.cn/new/disclosure/detail...  \n",
       "224  http://www.cninfo.com.cn/new/disclosure/detail...  \n",
       "225  http://www.cninfo.com.cn/new/disclosure/detail...  \n",
       "226  http://www.cninfo.com.cn/new/disclosure/detail...  \n",
       "227  http://www.cninfo.com.cn/new/disclosure/detail...  \n",
       "\n",
       "[228 rows x 4 columns]"
      ]
     },
     "execution_count": 45,
     "metadata": {},
     "output_type": "execute_result"
    }
   ],
   "source": [
    "# load sample data (first 10 pages) with specified data types\n",
    "dtype_dict = {'code': str, 'name': str, 'title': str, 'link': str}\n",
    "df = pd.read_csv('./Data/annual_report_10pages.csv', dtype=dtype_dict)\n",
    "df"
   ]
  },
  {
   "cell_type": "markdown",
   "metadata": {},
   "source": [
    "## 1. Extract `year` from titles"
   ]
  },
  {
   "cell_type": "code",
   "execution_count": 46,
   "metadata": {},
   "outputs": [
    {
     "data": {
      "application/vnd.microsoft.datawrangler.viewer.v0+json": {
       "columns": [
        {
         "name": "index",
         "rawType": "int64",
         "type": "integer"
        },
        {
         "name": "code",
         "rawType": "object",
         "type": "string"
        },
        {
         "name": "name",
         "rawType": "object",
         "type": "string"
        },
        {
         "name": "title",
         "rawType": "object",
         "type": "string"
        },
        {
         "name": "link",
         "rawType": "object",
         "type": "string"
        },
        {
         "name": "year",
         "rawType": "object",
         "type": "string"
        }
       ],
       "conversionMethod": "pd.DataFrame",
       "ref": "0fe7e2ff-e4ef-4200-b487-86b796771154",
       "rows": [
        [
         "0",
         "603019",
         "中科曙光",
         "中科曙光2024年年度报告",
         "http://www.cninfo.com.cn/new/disclosure/detail?stockCode=603019&announcementId=1222707755&orgId=9900023134&announcementTime=2025-03-04",
         "2024"
        ],
        [
         "1",
         "872808",
         "曙光数创",
         "2024年年度报告",
         "http://www.cninfo.com.cn/new/disclosure/detail?stockCode=872808&announcementId=1222707371&orgId=gfbj0872808&announcementTime=2025-03-03",
         "2024"
        ],
        [
         "2",
         "300353",
         "东土科技",
         "2024年年度报告",
         "http://www.cninfo.com.cn/new/disclosure/detail?stockCode=300353&announcementId=1222694710&orgId=9900006124&announcementTime=2025-03-03",
         "2024"
        ],
        [
         "3",
         "000063",
         "中兴通讯",
         "2024年年度报告",
         "http://www.cninfo.com.cn/new/disclosure/detail?stockCode=000063&announcementId=1222675749&orgId=gssz0000063&announcementTime=2025-02-28",
         "2024"
        ],
        [
         "4",
         "688041",
         "海光信息",
         "海光信息技术股份有限公司2024年年度报告",
         "http://www.cninfo.com.cn/new/disclosure/detail?stockCode=688041&announcementId=1222675682&orgId=9900048365&announcementTime=2025-02-28",
         "2024"
        ]
       ],
       "shape": {
        "columns": 5,
        "rows": 5
       }
      },
      "text/html": [
       "<div>\n",
       "<style scoped>\n",
       "    .dataframe tbody tr th:only-of-type {\n",
       "        vertical-align: middle;\n",
       "    }\n",
       "\n",
       "    .dataframe tbody tr th {\n",
       "        vertical-align: top;\n",
       "    }\n",
       "\n",
       "    .dataframe thead th {\n",
       "        text-align: right;\n",
       "    }\n",
       "</style>\n",
       "<table border=\"1\" class=\"dataframe\">\n",
       "  <thead>\n",
       "    <tr style=\"text-align: right;\">\n",
       "      <th></th>\n",
       "      <th>code</th>\n",
       "      <th>name</th>\n",
       "      <th>title</th>\n",
       "      <th>link</th>\n",
       "      <th>year</th>\n",
       "    </tr>\n",
       "  </thead>\n",
       "  <tbody>\n",
       "    <tr>\n",
       "      <th>0</th>\n",
       "      <td>603019</td>\n",
       "      <td>中科曙光</td>\n",
       "      <td>中科曙光2024年年度报告</td>\n",
       "      <td>http://www.cninfo.com.cn/new/disclosure/detail...</td>\n",
       "      <td>2024</td>\n",
       "    </tr>\n",
       "    <tr>\n",
       "      <th>1</th>\n",
       "      <td>872808</td>\n",
       "      <td>曙光数创</td>\n",
       "      <td>2024年年度报告</td>\n",
       "      <td>http://www.cninfo.com.cn/new/disclosure/detail...</td>\n",
       "      <td>2024</td>\n",
       "    </tr>\n",
       "    <tr>\n",
       "      <th>2</th>\n",
       "      <td>300353</td>\n",
       "      <td>东土科技</td>\n",
       "      <td>2024年年度报告</td>\n",
       "      <td>http://www.cninfo.com.cn/new/disclosure/detail...</td>\n",
       "      <td>2024</td>\n",
       "    </tr>\n",
       "    <tr>\n",
       "      <th>3</th>\n",
       "      <td>000063</td>\n",
       "      <td>中兴通讯</td>\n",
       "      <td>2024年年度报告</td>\n",
       "      <td>http://www.cninfo.com.cn/new/disclosure/detail...</td>\n",
       "      <td>2024</td>\n",
       "    </tr>\n",
       "    <tr>\n",
       "      <th>4</th>\n",
       "      <td>688041</td>\n",
       "      <td>海光信息</td>\n",
       "      <td>海光信息技术股份有限公司2024年年度报告</td>\n",
       "      <td>http://www.cninfo.com.cn/new/disclosure/detail...</td>\n",
       "      <td>2024</td>\n",
       "    </tr>\n",
       "  </tbody>\n",
       "</table>\n",
       "</div>"
      ],
      "text/plain": [
       "     code  name                  title  \\\n",
       "0  603019  中科曙光          中科曙光2024年年度报告   \n",
       "1  872808  曙光数创              2024年年度报告   \n",
       "2  300353  东土科技              2024年年度报告   \n",
       "3  000063  中兴通讯              2024年年度报告   \n",
       "4  688041  海光信息  海光信息技术股份有限公司2024年年度报告   \n",
       "\n",
       "                                                link  year  \n",
       "0  http://www.cninfo.com.cn/new/disclosure/detail...  2024  \n",
       "1  http://www.cninfo.com.cn/new/disclosure/detail...  2024  \n",
       "2  http://www.cninfo.com.cn/new/disclosure/detail...  2024  \n",
       "3  http://www.cninfo.com.cn/new/disclosure/detail...  2024  \n",
       "4  http://www.cninfo.com.cn/new/disclosure/detail...  2024  "
      ]
     },
     "execution_count": 46,
     "metadata": {},
     "output_type": "execute_result"
    }
   ],
   "source": [
    "df['year'] = df['title'].str.extract(r'(\\d{4})')\n",
    "df.head()"
   ]
  },
  {
   "cell_type": "markdown",
   "metadata": {},
   "source": [
    "## 2. Remove Duplicates"
   ]
  },
  {
   "cell_type": "markdown",
   "metadata": {},
   "source": [
    "### Delete english versions"
   ]
  },
  {
   "cell_type": "code",
   "execution_count": 47,
   "metadata": {},
   "outputs": [],
   "source": [
    "df = df[~df['title'].str.contains('英文|英文版')]"
   ]
  },
  {
   "cell_type": "markdown",
   "metadata": {},
   "source": [
    "### Deal with revisions\n",
    "1. Extract all (code, year)s that are distinct,\n",
    "2.  "
   ]
  },
  {
   "cell_type": "code",
   "execution_count": 48,
   "metadata": {},
   "outputs": [],
   "source": [
    "# filter duplicated titles\n",
    "df = df.drop_duplicates(subset=['code','year','title'])"
   ]
  },
  {
   "cell_type": "code",
   "execution_count": 49,
   "metadata": {},
   "outputs": [],
   "source": [
    "# count the number of (code, year) combinations\n",
    "df['count'] = df.groupby(['code','year'])[['title']].transform('count')"
   ]
  },
  {
   "cell_type": "code",
   "execution_count": 36,
   "metadata": {},
   "outputs": [
    {
     "data": {
      "application/vnd.microsoft.datawrangler.viewer.v0+json": {
       "columns": [
        {
         "name": "index",
         "rawType": "int64",
         "type": "integer"
        },
        {
         "name": "code",
         "rawType": "object",
         "type": "string"
        },
        {
         "name": "name",
         "rawType": "object",
         "type": "string"
        },
        {
         "name": "title",
         "rawType": "object",
         "type": "string"
        },
        {
         "name": "link",
         "rawType": "object",
         "type": "string"
        },
        {
         "name": "year",
         "rawType": "object",
         "type": "string"
        },
        {
         "name": "count",
         "rawType": "int64",
         "type": "integer"
        }
       ],
       "conversionMethod": "pd.DataFrame",
       "ref": "7fa7eeaa-12bf-4bf4-8814-790a4d57f313",
       "rows": [
        [
         "49",
         "002569",
         "ST步森",
         "2021年年度报告全文（补充更正后）",
         "http://www.cninfo.com.cn/new/disclosure/detail?stockCode=002569&announcementId=1221158953&orgId=9900019034&announcementTime=2024-09-06",
         "2021",
         "2"
        ],
        [
         "60",
         "002569",
         "ST步森",
         "2021年年度报告全文（更正后）",
         "http://www.cninfo.com.cn/new/disclosure/detail?stockCode=002569&announcementId=1221058830&orgId=9900019034&announcementTime=2024-08-29",
         "2021",
         "2"
        ],
        [
         "48",
         "002569",
         "ST步森",
         "2022年年度报告（补充更正后）",
         "http://www.cninfo.com.cn/new/disclosure/detail?stockCode=002569&announcementId=1221158959&orgId=9900019034&announcementTime=2024-09-06",
         "2022",
         "2"
        ],
        [
         "62",
         "002569",
         "ST步森",
         "2022年年度报告（更正后）",
         "http://www.cninfo.com.cn/new/disclosure/detail?stockCode=002569&announcementId=1221058817&orgId=9900019034&announcementTime=2024-08-29",
         "2022",
         "2"
        ],
        [
         "47",
         "002569",
         "ST步森",
         "2023年年度报告（补充更正后）",
         "http://www.cninfo.com.cn/new/disclosure/detail?stockCode=002569&announcementId=1221158964&orgId=9900019034&announcementTime=2024-09-06",
         "2023",
         "2"
        ],
        [
         "59",
         "002569",
         "ST步森",
         "2023年年度报告（更正后）",
         "http://www.cninfo.com.cn/new/disclosure/detail?stockCode=002569&announcementId=1221058835&orgId=9900019034&announcementTime=2024-08-29",
         "2023",
         "2"
        ],
        [
         "141",
         "600965",
         "福成股份",
         "福成股份：2023年年度报告（ 更正后）",
         "http://www.cninfo.com.cn/new/disclosure/detail?stockCode=600965&announcementId=1220391882&orgId=gssh0600965&announcementTime=2024-06-18",
         "2023",
         "2"
        ],
        [
         "142",
         "600965",
         "福成股份",
         "福成股份：关于更正《2023年年度报告》的公告",
         "http://www.cninfo.com.cn/new/disclosure/detail?stockCode=600965&announcementId=1220391881&orgId=gssh0600965&announcementTime=2024-06-18",
         "2023",
         "2"
        ],
        [
         "174",
         "688165",
         "埃夫特",
         "埃夫特关于披露2023年年度报告补充信息及发布《2023年年度报告（修订稿）》的公告",
         "http://www.cninfo.com.cn/new/disclosure/detail?stockCode=688165&announcementId=1220348742&orgId=9900039655&announcementTime=2024-06-13",
         "2023",
         "2"
        ],
        [
         "175",
         "688165",
         "埃夫特",
         "埃夫特2023年年度报告（修订稿）",
         "http://www.cninfo.com.cn/new/disclosure/detail?stockCode=688165&announcementId=1220348740&orgId=9900039655&announcementTime=2024-06-13",
         "2023",
         "2"
        ],
        [
         "133",
         "688355",
         "明志科技",
         "苏州明志科技股份有限公司2023年年度报告（修订稿）",
         "http://www.cninfo.com.cn/new/disclosure/detail?stockCode=688355&announcementId=1220425642&orgId=9900044737&announcementTime=2024-06-21",
         "2023",
         "2"
        ],
        [
         "134",
         "688355",
         "明志科技",
         "苏州明志科技股份有限公司关于披露2023年年度报告补充信息及发布《2023年年度报告（修订稿）》的公告",
         "http://www.cninfo.com.cn/new/disclosure/detail?stockCode=688355&announcementId=1220425641&orgId=9900044737&announcementTime=2024-06-21",
         "2023",
         "2"
        ],
        [
         "126",
         "688377",
         "迪威尔",
         "迪威尔关于披露2023年年度报告补充信息及发布《2023年年度报告（修订稿）》的公告",
         "http://www.cninfo.com.cn/new/disclosure/detail?stockCode=688377&announcementId=1220442270&orgId=9900029817&announcementTime=2024-06-24",
         "2023",
         "2"
        ],
        [
         "127",
         "688377",
         "迪威尔",
         "迪威尔2023年年度报告（修订稿）",
         "http://www.cninfo.com.cn/new/disclosure/detail?stockCode=688377&announcementId=1220442269&orgId=9900029817&announcementTime=2024-06-24",
         "2023",
         "2"
        ],
        [
         "149",
         "688510",
         "航亚科技",
         "无锡航亚科技股份有限公司2023年年度报告（修订版）",
         "http://www.cninfo.com.cn/new/disclosure/detail?stockCode=688510&announcementId=1220482236&orgId=gfbj0870269&announcementTime=2024-06-27",
         "2023",
         "2"
        ],
        [
         "150",
         "688510",
         "航亚科技",
         "无锡航亚科技股份有限公司关于披露2023年年度报告补充信息及发布《2023年年度报告（修订版）》的公告",
         "http://www.cninfo.com.cn/new/disclosure/detail?stockCode=688510&announcementId=1220482235&orgId=gfbj0870269&announcementTime=2024-06-27",
         "2023",
         "2"
        ],
        [
         "66",
         "830974",
         "凯大催化",
         "2022年年度报告（更正公告）",
         "http://www.cninfo.com.cn/new/disclosure/detail?stockCode=830974&announcementId=1221036030&orgId=gfbj0830974&announcementTime=2024-08-27",
         "2022",
         "2"
        ],
        [
         "69",
         "830974",
         "凯大催化",
         "2022年年度报告（更正后）",
         "http://www.cninfo.com.cn/new/disclosure/detail?stockCode=830974&announcementId=1221036023&orgId=gfbj0830974&announcementTime=2024-08-27",
         "2022",
         "2"
        ],
        [
         "67",
         "830974",
         "凯大催化",
         "2023年年度报告（更正后）",
         "http://www.cninfo.com.cn/new/disclosure/detail?stockCode=830974&announcementId=1221036028&orgId=gfbj0830974&announcementTime=2024-08-27",
         "2023",
         "2"
        ],
        [
         "68",
         "830974",
         "凯大催化",
         "2023年年度报告（更正公告）",
         "http://www.cninfo.com.cn/new/disclosure/detail?stockCode=830974&announcementId=1221036026&orgId=gfbj0830974&announcementTime=2024-08-27",
         "2023",
         "2"
        ],
        [
         "169",
         "831856",
         "浩淼科技",
         "2023年年度报告（更正公告）",
         "http://www.cninfo.com.cn/new/disclosure/detail?stockCode=831856&announcementId=1220226410&orgId=gfbj0831856&announcementTime=2024-05-30",
         "2023",
         "2"
        ],
        [
         "170",
         "831856",
         "浩淼科技",
         "2023年年度报告（更正后）",
         "http://www.cninfo.com.cn/new/disclosure/detail?stockCode=831856&announcementId=1220226404&orgId=gfbj0831856&announcementTime=2024-05-30",
         "2023",
         "2"
        ],
        [
         "50",
         "834475",
         "三友科技",
         "2023年年度报告（更正后）",
         "http://www.cninfo.com.cn/new/disclosure/detail?stockCode=834475&announcementId=1222419776&orgId=gfbj0834475&announcementTime=2025-01-22",
         "2023",
         "2"
        ],
        [
         "51",
         "834475",
         "三友科技",
         "2023年年度报告（更正公告）",
         "http://www.cninfo.com.cn/new/disclosure/detail?stockCode=834475&announcementId=1222419764&orgId=gfbj0834475&announcementTime=2025-01-22",
         "2023",
         "2"
        ],
        [
         "107",
         "839719",
         "宁新新材",
         "2023年年度报告（更正公告）",
         "http://www.cninfo.com.cn/new/disclosure/detail?stockCode=839719&announcementId=1220521611&orgId=gfbj0839719&announcementTime=2024-07-01",
         "2023",
         "2"
        ],
        [
         "108",
         "839719",
         "宁新新材",
         "2023年年度报告（更正后）",
         "http://www.cninfo.com.cn/new/disclosure/detail?stockCode=839719&announcementId=1220521601&orgId=gfbj0839719&announcementTime=2024-07-01",
         "2023",
         "2"
        ],
        [
         "37",
         "873576",
         "天力复合",
         "2023年年度报告（更正公告）",
         "http://www.cninfo.com.cn/new/disclosure/detail?stockCode=873576&announcementId=1221941789&orgId=gfbj0873576&announcementTime=2024-12-04",
         "2023",
         "2"
        ],
        [
         "38",
         "873576",
         "天力复合",
         "2023年年度报告（更正后）",
         "http://www.cninfo.com.cn/new/disclosure/detail?stockCode=873576&announcementId=1221941782&orgId=gfbj0873576&announcementTime=2024-12-04",
         "2023",
         "2"
        ]
       ],
       "shape": {
        "columns": 6,
        "rows": 28
       }
      },
      "text/html": [
       "<div>\n",
       "<style scoped>\n",
       "    .dataframe tbody tr th:only-of-type {\n",
       "        vertical-align: middle;\n",
       "    }\n",
       "\n",
       "    .dataframe tbody tr th {\n",
       "        vertical-align: top;\n",
       "    }\n",
       "\n",
       "    .dataframe thead th {\n",
       "        text-align: right;\n",
       "    }\n",
       "</style>\n",
       "<table border=\"1\" class=\"dataframe\">\n",
       "  <thead>\n",
       "    <tr style=\"text-align: right;\">\n",
       "      <th></th>\n",
       "      <th>code</th>\n",
       "      <th>name</th>\n",
       "      <th>title</th>\n",
       "      <th>link</th>\n",
       "      <th>year</th>\n",
       "      <th>count</th>\n",
       "    </tr>\n",
       "  </thead>\n",
       "  <tbody>\n",
       "    <tr>\n",
       "      <th>49</th>\n",
       "      <td>002569</td>\n",
       "      <td>ST步森</td>\n",
       "      <td>2021年年度报告全文（补充更正后）</td>\n",
       "      <td>http://www.cninfo.com.cn/new/disclosure/detail...</td>\n",
       "      <td>2021</td>\n",
       "      <td>2</td>\n",
       "    </tr>\n",
       "    <tr>\n",
       "      <th>60</th>\n",
       "      <td>002569</td>\n",
       "      <td>ST步森</td>\n",
       "      <td>2021年年度报告全文（更正后）</td>\n",
       "      <td>http://www.cninfo.com.cn/new/disclosure/detail...</td>\n",
       "      <td>2021</td>\n",
       "      <td>2</td>\n",
       "    </tr>\n",
       "    <tr>\n",
       "      <th>48</th>\n",
       "      <td>002569</td>\n",
       "      <td>ST步森</td>\n",
       "      <td>2022年年度报告（补充更正后）</td>\n",
       "      <td>http://www.cninfo.com.cn/new/disclosure/detail...</td>\n",
       "      <td>2022</td>\n",
       "      <td>2</td>\n",
       "    </tr>\n",
       "    <tr>\n",
       "      <th>62</th>\n",
       "      <td>002569</td>\n",
       "      <td>ST步森</td>\n",
       "      <td>2022年年度报告（更正后）</td>\n",
       "      <td>http://www.cninfo.com.cn/new/disclosure/detail...</td>\n",
       "      <td>2022</td>\n",
       "      <td>2</td>\n",
       "    </tr>\n",
       "    <tr>\n",
       "      <th>47</th>\n",
       "      <td>002569</td>\n",
       "      <td>ST步森</td>\n",
       "      <td>2023年年度报告（补充更正后）</td>\n",
       "      <td>http://www.cninfo.com.cn/new/disclosure/detail...</td>\n",
       "      <td>2023</td>\n",
       "      <td>2</td>\n",
       "    </tr>\n",
       "    <tr>\n",
       "      <th>59</th>\n",
       "      <td>002569</td>\n",
       "      <td>ST步森</td>\n",
       "      <td>2023年年度报告（更正后）</td>\n",
       "      <td>http://www.cninfo.com.cn/new/disclosure/detail...</td>\n",
       "      <td>2023</td>\n",
       "      <td>2</td>\n",
       "    </tr>\n",
       "    <tr>\n",
       "      <th>141</th>\n",
       "      <td>600965</td>\n",
       "      <td>福成股份</td>\n",
       "      <td>福成股份：2023年年度报告（ 更正后）</td>\n",
       "      <td>http://www.cninfo.com.cn/new/disclosure/detail...</td>\n",
       "      <td>2023</td>\n",
       "      <td>2</td>\n",
       "    </tr>\n",
       "    <tr>\n",
       "      <th>142</th>\n",
       "      <td>600965</td>\n",
       "      <td>福成股份</td>\n",
       "      <td>福成股份：关于更正《2023年年度报告》的公告</td>\n",
       "      <td>http://www.cninfo.com.cn/new/disclosure/detail...</td>\n",
       "      <td>2023</td>\n",
       "      <td>2</td>\n",
       "    </tr>\n",
       "    <tr>\n",
       "      <th>174</th>\n",
       "      <td>688165</td>\n",
       "      <td>埃夫特</td>\n",
       "      <td>埃夫特关于披露2023年年度报告补充信息及发布《2023年年度报告（修订稿）》的公告</td>\n",
       "      <td>http://www.cninfo.com.cn/new/disclosure/detail...</td>\n",
       "      <td>2023</td>\n",
       "      <td>2</td>\n",
       "    </tr>\n",
       "    <tr>\n",
       "      <th>175</th>\n",
       "      <td>688165</td>\n",
       "      <td>埃夫特</td>\n",
       "      <td>埃夫特2023年年度报告（修订稿）</td>\n",
       "      <td>http://www.cninfo.com.cn/new/disclosure/detail...</td>\n",
       "      <td>2023</td>\n",
       "      <td>2</td>\n",
       "    </tr>\n",
       "    <tr>\n",
       "      <th>133</th>\n",
       "      <td>688355</td>\n",
       "      <td>明志科技</td>\n",
       "      <td>苏州明志科技股份有限公司2023年年度报告（修订稿）</td>\n",
       "      <td>http://www.cninfo.com.cn/new/disclosure/detail...</td>\n",
       "      <td>2023</td>\n",
       "      <td>2</td>\n",
       "    </tr>\n",
       "    <tr>\n",
       "      <th>134</th>\n",
       "      <td>688355</td>\n",
       "      <td>明志科技</td>\n",
       "      <td>苏州明志科技股份有限公司关于披露2023年年度报告补充信息及发布《2023年年度报告（修订稿...</td>\n",
       "      <td>http://www.cninfo.com.cn/new/disclosure/detail...</td>\n",
       "      <td>2023</td>\n",
       "      <td>2</td>\n",
       "    </tr>\n",
       "    <tr>\n",
       "      <th>126</th>\n",
       "      <td>688377</td>\n",
       "      <td>迪威尔</td>\n",
       "      <td>迪威尔关于披露2023年年度报告补充信息及发布《2023年年度报告（修订稿）》的公告</td>\n",
       "      <td>http://www.cninfo.com.cn/new/disclosure/detail...</td>\n",
       "      <td>2023</td>\n",
       "      <td>2</td>\n",
       "    </tr>\n",
       "    <tr>\n",
       "      <th>127</th>\n",
       "      <td>688377</td>\n",
       "      <td>迪威尔</td>\n",
       "      <td>迪威尔2023年年度报告（修订稿）</td>\n",
       "      <td>http://www.cninfo.com.cn/new/disclosure/detail...</td>\n",
       "      <td>2023</td>\n",
       "      <td>2</td>\n",
       "    </tr>\n",
       "    <tr>\n",
       "      <th>149</th>\n",
       "      <td>688510</td>\n",
       "      <td>航亚科技</td>\n",
       "      <td>无锡航亚科技股份有限公司2023年年度报告（修订版）</td>\n",
       "      <td>http://www.cninfo.com.cn/new/disclosure/detail...</td>\n",
       "      <td>2023</td>\n",
       "      <td>2</td>\n",
       "    </tr>\n",
       "    <tr>\n",
       "      <th>150</th>\n",
       "      <td>688510</td>\n",
       "      <td>航亚科技</td>\n",
       "      <td>无锡航亚科技股份有限公司关于披露2023年年度报告补充信息及发布《2023年年度报告（修订版...</td>\n",
       "      <td>http://www.cninfo.com.cn/new/disclosure/detail...</td>\n",
       "      <td>2023</td>\n",
       "      <td>2</td>\n",
       "    </tr>\n",
       "    <tr>\n",
       "      <th>66</th>\n",
       "      <td>830974</td>\n",
       "      <td>凯大催化</td>\n",
       "      <td>2022年年度报告（更正公告）</td>\n",
       "      <td>http://www.cninfo.com.cn/new/disclosure/detail...</td>\n",
       "      <td>2022</td>\n",
       "      <td>2</td>\n",
       "    </tr>\n",
       "    <tr>\n",
       "      <th>69</th>\n",
       "      <td>830974</td>\n",
       "      <td>凯大催化</td>\n",
       "      <td>2022年年度报告（更正后）</td>\n",
       "      <td>http://www.cninfo.com.cn/new/disclosure/detail...</td>\n",
       "      <td>2022</td>\n",
       "      <td>2</td>\n",
       "    </tr>\n",
       "    <tr>\n",
       "      <th>67</th>\n",
       "      <td>830974</td>\n",
       "      <td>凯大催化</td>\n",
       "      <td>2023年年度报告（更正后）</td>\n",
       "      <td>http://www.cninfo.com.cn/new/disclosure/detail...</td>\n",
       "      <td>2023</td>\n",
       "      <td>2</td>\n",
       "    </tr>\n",
       "    <tr>\n",
       "      <th>68</th>\n",
       "      <td>830974</td>\n",
       "      <td>凯大催化</td>\n",
       "      <td>2023年年度报告（更正公告）</td>\n",
       "      <td>http://www.cninfo.com.cn/new/disclosure/detail...</td>\n",
       "      <td>2023</td>\n",
       "      <td>2</td>\n",
       "    </tr>\n",
       "    <tr>\n",
       "      <th>169</th>\n",
       "      <td>831856</td>\n",
       "      <td>浩淼科技</td>\n",
       "      <td>2023年年度报告（更正公告）</td>\n",
       "      <td>http://www.cninfo.com.cn/new/disclosure/detail...</td>\n",
       "      <td>2023</td>\n",
       "      <td>2</td>\n",
       "    </tr>\n",
       "    <tr>\n",
       "      <th>170</th>\n",
       "      <td>831856</td>\n",
       "      <td>浩淼科技</td>\n",
       "      <td>2023年年度报告（更正后）</td>\n",
       "      <td>http://www.cninfo.com.cn/new/disclosure/detail...</td>\n",
       "      <td>2023</td>\n",
       "      <td>2</td>\n",
       "    </tr>\n",
       "    <tr>\n",
       "      <th>50</th>\n",
       "      <td>834475</td>\n",
       "      <td>三友科技</td>\n",
       "      <td>2023年年度报告（更正后）</td>\n",
       "      <td>http://www.cninfo.com.cn/new/disclosure/detail...</td>\n",
       "      <td>2023</td>\n",
       "      <td>2</td>\n",
       "    </tr>\n",
       "    <tr>\n",
       "      <th>51</th>\n",
       "      <td>834475</td>\n",
       "      <td>三友科技</td>\n",
       "      <td>2023年年度报告（更正公告）</td>\n",
       "      <td>http://www.cninfo.com.cn/new/disclosure/detail...</td>\n",
       "      <td>2023</td>\n",
       "      <td>2</td>\n",
       "    </tr>\n",
       "    <tr>\n",
       "      <th>107</th>\n",
       "      <td>839719</td>\n",
       "      <td>宁新新材</td>\n",
       "      <td>2023年年度报告（更正公告）</td>\n",
       "      <td>http://www.cninfo.com.cn/new/disclosure/detail...</td>\n",
       "      <td>2023</td>\n",
       "      <td>2</td>\n",
       "    </tr>\n",
       "    <tr>\n",
       "      <th>108</th>\n",
       "      <td>839719</td>\n",
       "      <td>宁新新材</td>\n",
       "      <td>2023年年度报告（更正后）</td>\n",
       "      <td>http://www.cninfo.com.cn/new/disclosure/detail...</td>\n",
       "      <td>2023</td>\n",
       "      <td>2</td>\n",
       "    </tr>\n",
       "    <tr>\n",
       "      <th>37</th>\n",
       "      <td>873576</td>\n",
       "      <td>天力复合</td>\n",
       "      <td>2023年年度报告（更正公告）</td>\n",
       "      <td>http://www.cninfo.com.cn/new/disclosure/detail...</td>\n",
       "      <td>2023</td>\n",
       "      <td>2</td>\n",
       "    </tr>\n",
       "    <tr>\n",
       "      <th>38</th>\n",
       "      <td>873576</td>\n",
       "      <td>天力复合</td>\n",
       "      <td>2023年年度报告（更正后）</td>\n",
       "      <td>http://www.cninfo.com.cn/new/disclosure/detail...</td>\n",
       "      <td>2023</td>\n",
       "      <td>2</td>\n",
       "    </tr>\n",
       "  </tbody>\n",
       "</table>\n",
       "</div>"
      ],
      "text/plain": [
       "       code  name                                              title  \\\n",
       "49   002569  ST步森                                 2021年年度报告全文（补充更正后）   \n",
       "60   002569  ST步森                                   2021年年度报告全文（更正后）   \n",
       "48   002569  ST步森                                   2022年年度报告（补充更正后）   \n",
       "62   002569  ST步森                                     2022年年度报告（更正后）   \n",
       "47   002569  ST步森                                   2023年年度报告（补充更正后）   \n",
       "59   002569  ST步森                                     2023年年度报告（更正后）   \n",
       "141  600965  福成股份                               福成股份：2023年年度报告（ 更正后）   \n",
       "142  600965  福成股份                            福成股份：关于更正《2023年年度报告》的公告   \n",
       "174  688165   埃夫特         埃夫特关于披露2023年年度报告补充信息及发布《2023年年度报告（修订稿）》的公告   \n",
       "175  688165   埃夫特                                  埃夫特2023年年度报告（修订稿）   \n",
       "133  688355  明志科技                         苏州明志科技股份有限公司2023年年度报告（修订稿）   \n",
       "134  688355  明志科技  苏州明志科技股份有限公司关于披露2023年年度报告补充信息及发布《2023年年度报告（修订稿...   \n",
       "126  688377   迪威尔         迪威尔关于披露2023年年度报告补充信息及发布《2023年年度报告（修订稿）》的公告   \n",
       "127  688377   迪威尔                                  迪威尔2023年年度报告（修订稿）   \n",
       "149  688510  航亚科技                         无锡航亚科技股份有限公司2023年年度报告（修订版）   \n",
       "150  688510  航亚科技  无锡航亚科技股份有限公司关于披露2023年年度报告补充信息及发布《2023年年度报告（修订版...   \n",
       "66   830974  凯大催化                                    2022年年度报告（更正公告）   \n",
       "69   830974  凯大催化                                     2022年年度报告（更正后）   \n",
       "67   830974  凯大催化                                     2023年年度报告（更正后）   \n",
       "68   830974  凯大催化                                    2023年年度报告（更正公告）   \n",
       "169  831856  浩淼科技                                    2023年年度报告（更正公告）   \n",
       "170  831856  浩淼科技                                     2023年年度报告（更正后）   \n",
       "50   834475  三友科技                                     2023年年度报告（更正后）   \n",
       "51   834475  三友科技                                    2023年年度报告（更正公告）   \n",
       "107  839719  宁新新材                                    2023年年度报告（更正公告）   \n",
       "108  839719  宁新新材                                     2023年年度报告（更正后）   \n",
       "37   873576  天力复合                                    2023年年度报告（更正公告）   \n",
       "38   873576  天力复合                                     2023年年度报告（更正后）   \n",
       "\n",
       "                                                  link  year  count  \n",
       "49   http://www.cninfo.com.cn/new/disclosure/detail...  2021      2  \n",
       "60   http://www.cninfo.com.cn/new/disclosure/detail...  2021      2  \n",
       "48   http://www.cninfo.com.cn/new/disclosure/detail...  2022      2  \n",
       "62   http://www.cninfo.com.cn/new/disclosure/detail...  2022      2  \n",
       "47   http://www.cninfo.com.cn/new/disclosure/detail...  2023      2  \n",
       "59   http://www.cninfo.com.cn/new/disclosure/detail...  2023      2  \n",
       "141  http://www.cninfo.com.cn/new/disclosure/detail...  2023      2  \n",
       "142  http://www.cninfo.com.cn/new/disclosure/detail...  2023      2  \n",
       "174  http://www.cninfo.com.cn/new/disclosure/detail...  2023      2  \n",
       "175  http://www.cninfo.com.cn/new/disclosure/detail...  2023      2  \n",
       "133  http://www.cninfo.com.cn/new/disclosure/detail...  2023      2  \n",
       "134  http://www.cninfo.com.cn/new/disclosure/detail...  2023      2  \n",
       "126  http://www.cninfo.com.cn/new/disclosure/detail...  2023      2  \n",
       "127  http://www.cninfo.com.cn/new/disclosure/detail...  2023      2  \n",
       "149  http://www.cninfo.com.cn/new/disclosure/detail...  2023      2  \n",
       "150  http://www.cninfo.com.cn/new/disclosure/detail...  2023      2  \n",
       "66   http://www.cninfo.com.cn/new/disclosure/detail...  2022      2  \n",
       "69   http://www.cninfo.com.cn/new/disclosure/detail...  2022      2  \n",
       "67   http://www.cninfo.com.cn/new/disclosure/detail...  2023      2  \n",
       "68   http://www.cninfo.com.cn/new/disclosure/detail...  2023      2  \n",
       "169  http://www.cninfo.com.cn/new/disclosure/detail...  2023      2  \n",
       "170  http://www.cninfo.com.cn/new/disclosure/detail...  2023      2  \n",
       "50   http://www.cninfo.com.cn/new/disclosure/detail...  2023      2  \n",
       "51   http://www.cninfo.com.cn/new/disclosure/detail...  2023      2  \n",
       "107  http://www.cninfo.com.cn/new/disclosure/detail...  2023      2  \n",
       "108  http://www.cninfo.com.cn/new/disclosure/detail...  2023      2  \n",
       "37   http://www.cninfo.com.cn/new/disclosure/detail...  2023      2  \n",
       "38   http://www.cninfo.com.cn/new/disclosure/detail...  2023      2  "
      ]
     },
     "execution_count": 36,
     "metadata": {},
     "output_type": "execute_result"
    }
   ],
   "source": [
    "df[df['count']>1].sort_values(by=['code','year'])"
   ]
  },
  {
   "cell_type": "markdown",
   "metadata": {},
   "source": [
    "Find patterns of revision:\n",
    "- delete titles like '埃夫特**关于**披露2023年年度报告补充信息及发布《2023年年度报告（修订稿）》的公告' (not a real report)\n",
    "- i.e. ('2023年度报告', '2023年度报告（更正后）') --> 保留更正版\n",
    "- i.e. ('2022年度报告（更正后）', '2022年度报告（补充更正后）') --> 保留一个"
   ]
  },
  {
   "cell_type": "code",
   "execution_count": 51,
   "metadata": {},
   "outputs": [],
   "source": [
    "df_unique = df[df['count']==1]\n",
    "df_duplicated = df[df['count']>1].sort_values(by=['code','year'])"
   ]
  },
  {
   "cell_type": "code",
   "execution_count": 52,
   "metadata": {},
   "outputs": [],
   "source": [
    "# delete **关于**\n",
    "df_duplicated = df_duplicated[~df_duplicated['title'].str.contains('关于')]"
   ]
  },
  {
   "cell_type": "code",
   "execution_count": 55,
   "metadata": {},
   "outputs": [],
   "source": [
    "# 保留更正版\n",
    "df_duplicated = df_duplicated[df_duplicated['title'].str.contains('更正版|更正后|修订稿|修订版|修订后|更正公告|更正稿')]\n",
    "# 保留最新版\n",
    "df_duplicated.drop_duplicates(subset=['code','year'], keep='first', inplace=True)"
   ]
  },
  {
   "cell_type": "code",
   "execution_count": 57,
   "metadata": {},
   "outputs": [],
   "source": [
    "df = pd.concat([df_unique, df_duplicated])"
   ]
  },
  {
   "cell_type": "code",
   "execution_count": null,
   "metadata": {},
   "outputs": [
    {
     "data": {
      "text/plain": [
       "0"
      ]
     },
     "execution_count": 59,
     "metadata": {},
     "output_type": "execute_result"
    }
   ],
   "source": [
    "df.duplicated(subset=['code','year']).sum() # no duplicated (code, year) combinations"
   ]
  },
  {
   "cell_type": "code",
   "execution_count": 60,
   "metadata": {},
   "outputs": [
    {
     "data": {
      "application/vnd.microsoft.datawrangler.viewer.v0+json": {
       "columns": [
        {
         "name": "index",
         "rawType": "int64",
         "type": "integer"
        },
        {
         "name": "code",
         "rawType": "object",
         "type": "string"
        },
        {
         "name": "year",
         "rawType": "object",
         "type": "string"
        },
        {
         "name": "name",
         "rawType": "object",
         "type": "string"
        },
        {
         "name": "link",
         "rawType": "object",
         "type": "string"
        }
       ],
       "conversionMethod": "pd.DataFrame",
       "ref": "63d7f764-c2ff-4e46-8da5-7fcab8f96ff9",
       "rows": [
        [
         "0",
         "603019",
         "2024",
         "中科曙光",
         "http://www.cninfo.com.cn/new/disclosure/detail?stockCode=603019&announcementId=1222707755&orgId=9900023134&announcementTime=2025-03-04"
        ],
        [
         "1",
         "872808",
         "2024",
         "曙光数创",
         "http://www.cninfo.com.cn/new/disclosure/detail?stockCode=872808&announcementId=1222707371&orgId=gfbj0872808&announcementTime=2025-03-03"
        ],
        [
         "2",
         "300353",
         "2024",
         "东土科技",
         "http://www.cninfo.com.cn/new/disclosure/detail?stockCode=300353&announcementId=1222694710&orgId=9900006124&announcementTime=2025-03-03"
        ],
        [
         "3",
         "000063",
         "2024",
         "中兴通讯",
         "http://www.cninfo.com.cn/new/disclosure/detail?stockCode=000063&announcementId=1222675749&orgId=gssz0000063&announcementTime=2025-02-28"
        ],
        [
         "4",
         "688041",
         "2024",
         "海光信息",
         "http://www.cninfo.com.cn/new/disclosure/detail?stockCode=688041&announcementId=1222675682&orgId=9900048365&announcementTime=2025-02-28"
        ],
        [
         "5",
         "300437",
         "2023",
         "清水源",
         "http://www.cninfo.com.cn/new/disclosure/detail?stockCode=300437&announcementId=1222674726&orgId=9900023933&announcementTime=2025-02-28"
        ],
        [
         "6",
         "300437",
         "2022",
         "清水源",
         "http://www.cninfo.com.cn/new/disclosure/detail?stockCode=300437&announcementId=1222674722&orgId=9900023933&announcementTime=2025-02-28"
        ],
        [
         "7",
         "300437",
         "2018",
         "清水源",
         "http://www.cninfo.com.cn/new/disclosure/detail?stockCode=300437&announcementId=1222674729&orgId=9900023933&announcementTime=2025-02-28"
        ],
        [
         "8",
         "300437",
         "2017",
         "清水源",
         "http://www.cninfo.com.cn/new/disclosure/detail?stockCode=300437&announcementId=1222674715&orgId=9900023933&announcementTime=2025-02-28"
        ],
        [
         "9",
         "300437",
         "2021",
         "清水源",
         "http://www.cninfo.com.cn/new/disclosure/detail?stockCode=300437&announcementId=1222674716&orgId=9900023933&announcementTime=2025-02-28"
        ],
        [
         "10",
         "300437",
         "2020",
         "清水源",
         "http://www.cninfo.com.cn/new/disclosure/detail?stockCode=300437&announcementId=1222674713&orgId=9900023933&announcementTime=2025-02-28"
        ],
        [
         "11",
         "300437",
         "2019",
         "清水源",
         "http://www.cninfo.com.cn/new/disclosure/detail?stockCode=300437&announcementId=1222674710&orgId=9900023933&announcementTime=2025-02-28"
        ],
        [
         "12",
         "300437",
         "2016",
         "清水源",
         "http://www.cninfo.com.cn/new/disclosure/detail?stockCode=300437&announcementId=1222674709&orgId=9900023933&announcementTime=2025-02-28"
        ],
        [
         "13",
         "600506",
         "2024",
         "统一股份",
         "http://www.cninfo.com.cn/new/disclosure/detail?stockCode=600506&announcementId=1222673452&orgId=gssh0600506&announcementTime=2025-02-27"
        ],
        [
         "14",
         "001207",
         "2024",
         "联科科技",
         "http://www.cninfo.com.cn/new/disclosure/detail?stockCode=001207&announcementId=1222663605&orgId=9900041710&announcementTime=2025-02-27"
        ],
        [
         "19",
         "002138",
         "2024",
         "顺络电子",
         "http://www.cninfo.com.cn/new/disclosure/detail?stockCode=002138&announcementId=1222663234&orgId=9900003163&announcementTime=2025-02-27"
        ],
        [
         "20",
         "605077",
         "2024",
         "华康股份",
         "http://www.cninfo.com.cn/new/disclosure/detail?stockCode=605077&announcementId=1222662617&orgId=9900039807&announcementTime=2025-02-27"
        ],
        [
         "21",
         "300842",
         "2024",
         "帝科股份",
         "http://www.cninfo.com.cn/new/disclosure/detail?stockCode=300842&announcementId=1222662510&orgId=9900038394&announcementTime=2025-02-27"
        ],
        [
         "22",
         "002162",
         "2024",
         "悦心健康",
         "http://www.cninfo.com.cn/new/disclosure/detail?stockCode=002162&announcementId=1222661912&orgId=9900003445&announcementTime=2025-02-27"
        ],
        [
         "23",
         "603009",
         "2024",
         "北特科技",
         "http://www.cninfo.com.cn/new/disclosure/detail?stockCode=603009&announcementId=1222661481&orgId=9900022982&announcementTime=2025-02-27"
        ],
        [
         "24",
         "688082",
         "2024",
         "盛美上海",
         "http://www.cninfo.com.cn/new/disclosure/detail?stockCode=688082&announcementId=1222651596&orgId=nssc1000455&announcementTime=2025-02-26"
        ],
        [
         "25",
         "002675",
         "2024",
         "东诚药业",
         "http://www.cninfo.com.cn/new/disclosure/detail?stockCode=002675&announcementId=1222651114&orgId=9900022707&announcementTime=2025-02-26"
        ],
        [
         "26",
         "603196",
         "2024",
         "日播时尚",
         "http://www.cninfo.com.cn/new/disclosure/detail?stockCode=603196&announcementId=1222637762&orgId=9900031491&announcementTime=2025-02-25"
        ],
        [
         "27",
         "603050",
         "2024",
         "科林电气",
         "http://www.cninfo.com.cn/new/disclosure/detail?stockCode=603050&announcementId=1222627863&orgId=9900023860&announcementTime=2025-02-24"
        ],
        [
         "28",
         "301522",
         "2024",
         "上大股份",
         "http://www.cninfo.com.cn/new/disclosure/detail?stockCode=301522&announcementId=1222627492&orgId=9900056251&announcementTime=2025-02-24"
        ],
        [
         "29",
         "600535",
         "2024",
         "天士力",
         "http://www.cninfo.com.cn/new/disclosure/detail?stockCode=600535&announcementId=1222626583&orgId=gssh0600535&announcementTime=2025-02-24"
        ],
        [
         "30",
         "300708",
         "2024",
         "聚灿光电",
         "http://www.cninfo.com.cn/new/disclosure/detail?stockCode=300708&announcementId=1222431163&orgId=9900031433&announcementTime=2025-01-24"
        ],
        [
         "31",
         "688100",
         "2024",
         "威胜信息",
         "http://www.cninfo.com.cn/new/disclosure/detail?stockCode=688100&announcementId=1222663570&orgId=9900039047&announcementTime=2025-02-27"
        ],
        [
         "32",
         "002271",
         "2024",
         "东方雨虹",
         "http://www.cninfo.com.cn/new/disclosure/detail?stockCode=002271&announcementId=1222663514&orgId=9900005238&announcementTime=2025-02-27"
        ],
        [
         "33",
         "600299",
         "2024",
         "安迪苏",
         "http://www.cninfo.com.cn/new/disclosure/detail?stockCode=600299&announcementId=1222663425&orgId=gssh0600299&announcementTime=2025-02-27"
        ],
        [
         "35",
         "300632",
         "2023",
         "光莆股份",
         "http://www.cninfo.com.cn/new/disclosure/detail?stockCode=300632&announcementId=1222115086&orgId=gfbj0430568&announcementTime=2024-12-23"
        ],
        [
         "36",
         "300632",
         "2022",
         "光莆股份",
         "http://www.cninfo.com.cn/new/disclosure/detail?stockCode=300632&announcementId=1222115078&orgId=gfbj0430568&announcementTime=2024-12-23"
        ],
        [
         "39",
         "002097",
         "2023",
         "山河智能",
         "http://www.cninfo.com.cn/new/disclosure/detail?stockCode=002097&announcementId=1221570452&orgId=9900001621&announcementTime=2024-10-30"
        ],
        [
         "40",
         "002097",
         "2021",
         "山河智能",
         "http://www.cninfo.com.cn/new/disclosure/detail?stockCode=002097&announcementId=1221570442&orgId=9900001621&announcementTime=2024-10-30"
        ],
        [
         "41",
         "002097",
         "2020",
         "山河智能",
         "http://www.cninfo.com.cn/new/disclosure/detail?stockCode=002097&announcementId=1221570439&orgId=9900001621&announcementTime=2024-10-30"
        ],
        [
         "42",
         "002097",
         "2022",
         "山河智能",
         "http://www.cninfo.com.cn/new/disclosure/detail?stockCode=002097&announcementId=1221570432&orgId=9900001621&announcementTime=2024-10-30"
        ],
        [
         "43",
         "002825",
         "2023",
         "纳尔股份",
         "http://www.cninfo.com.cn/new/disclosure/detail?stockCode=002825&announcementId=1221523417&orgId=9900028910&announcementTime=2024-10-27"
        ],
        [
         "44",
         "002413",
         "2023",
         "雷科防务",
         "http://www.cninfo.com.cn/new/disclosure/detail?stockCode=002413&announcementId=1221489979&orgId=9900012690&announcementTime=2024-10-23"
        ],
        [
         "46",
         "603839",
         "2023",
         "安正时尚",
         "http://www.cninfo.com.cn/new/disclosure/detail?stockCode=603839&announcementId=1221258604&orgId=9900030003&announcementTime=2024-09-20"
        ],
        [
         "52",
         "600165",
         "2022",
         "*ST宁科",
         "http://www.cninfo.com.cn/new/disclosure/detail?stockCode=600165&announcementId=1222168015&orgId=gssh0600165&announcementTime=2024-12-27"
        ],
        [
         "53",
         "600165",
         "2023",
         "*ST宁科",
         "http://www.cninfo.com.cn/new/disclosure/detail?stockCode=600165&announcementId=1222168006&orgId=gssh0600165&announcementTime=2024-12-27"
        ],
        [
         "54",
         "002808",
         "2022",
         "ST恒久",
         "http://www.cninfo.com.cn/new/disclosure/detail?stockCode=002808&announcementId=1221114580&orgId=9900010487&announcementTime=2024-09-02"
        ],
        [
         "55",
         "002808",
         "2021",
         "ST恒久",
         "http://www.cninfo.com.cn/new/disclosure/detail?stockCode=002808&announcementId=1221114578&orgId=9900010487&announcementTime=2024-09-02"
        ],
        [
         "56",
         "002808",
         "2019",
         "ST恒久",
         "http://www.cninfo.com.cn/new/disclosure/detail?stockCode=002808&announcementId=1221114577&orgId=9900010487&announcementTime=2024-09-02"
        ],
        [
         "57",
         "002808",
         "2023",
         "ST恒久",
         "http://www.cninfo.com.cn/new/disclosure/detail?stockCode=002808&announcementId=1221114573&orgId=9900010487&announcementTime=2024-09-02"
        ],
        [
         "58",
         "002388",
         "2023",
         "新亚制程",
         "http://www.cninfo.com.cn/new/disclosure/detail?stockCode=002388&announcementId=1221091525&orgId=9900011729&announcementTime=2024-08-30"
        ],
        [
         "61",
         "002569",
         "2019",
         "ST步森",
         "http://www.cninfo.com.cn/new/disclosure/detail?stockCode=002569&announcementId=1221058826&orgId=9900019034&announcementTime=2024-08-29"
        ],
        [
         "63",
         "002569",
         "2020",
         "ST步森",
         "http://www.cninfo.com.cn/new/disclosure/detail?stockCode=002569&announcementId=1221058816&orgId=9900019034&announcementTime=2024-08-29"
        ],
        [
         "64",
         "300224",
         "2023",
         "正海磁材",
         "http://www.cninfo.com.cn/new/disclosure/detail?stockCode=300224&announcementId=1221053613&orgId=9900019287&announcementTime=2024-08-29"
        ],
        [
         "65",
         "300786",
         "2023",
         "国林科技",
         "http://www.cninfo.com.cn/new/disclosure/detail?stockCode=300786&announcementId=1221052900&orgId=9900023921&announcementTime=2024-08-29"
        ]
       ],
       "shape": {
        "columns": 4,
        "rows": 162
       }
      },
      "text/html": [
       "<div>\n",
       "<style scoped>\n",
       "    .dataframe tbody tr th:only-of-type {\n",
       "        vertical-align: middle;\n",
       "    }\n",
       "\n",
       "    .dataframe tbody tr th {\n",
       "        vertical-align: top;\n",
       "    }\n",
       "\n",
       "    .dataframe thead th {\n",
       "        text-align: right;\n",
       "    }\n",
       "</style>\n",
       "<table border=\"1\" class=\"dataframe\">\n",
       "  <thead>\n",
       "    <tr style=\"text-align: right;\">\n",
       "      <th></th>\n",
       "      <th>code</th>\n",
       "      <th>year</th>\n",
       "      <th>name</th>\n",
       "      <th>link</th>\n",
       "    </tr>\n",
       "  </thead>\n",
       "  <tbody>\n",
       "    <tr>\n",
       "      <th>0</th>\n",
       "      <td>603019</td>\n",
       "      <td>2024</td>\n",
       "      <td>中科曙光</td>\n",
       "      <td>http://www.cninfo.com.cn/new/disclosure/detail...</td>\n",
       "    </tr>\n",
       "    <tr>\n",
       "      <th>1</th>\n",
       "      <td>872808</td>\n",
       "      <td>2024</td>\n",
       "      <td>曙光数创</td>\n",
       "      <td>http://www.cninfo.com.cn/new/disclosure/detail...</td>\n",
       "    </tr>\n",
       "    <tr>\n",
       "      <th>2</th>\n",
       "      <td>300353</td>\n",
       "      <td>2024</td>\n",
       "      <td>东土科技</td>\n",
       "      <td>http://www.cninfo.com.cn/new/disclosure/detail...</td>\n",
       "    </tr>\n",
       "    <tr>\n",
       "      <th>3</th>\n",
       "      <td>000063</td>\n",
       "      <td>2024</td>\n",
       "      <td>中兴通讯</td>\n",
       "      <td>http://www.cninfo.com.cn/new/disclosure/detail...</td>\n",
       "    </tr>\n",
       "    <tr>\n",
       "      <th>4</th>\n",
       "      <td>688041</td>\n",
       "      <td>2024</td>\n",
       "      <td>海光信息</td>\n",
       "      <td>http://www.cninfo.com.cn/new/disclosure/detail...</td>\n",
       "    </tr>\n",
       "    <tr>\n",
       "      <th>...</th>\n",
       "      <td>...</td>\n",
       "      <td>...</td>\n",
       "      <td>...</td>\n",
       "      <td>...</td>\n",
       "    </tr>\n",
       "    <tr>\n",
       "      <th>67</th>\n",
       "      <td>830974</td>\n",
       "      <td>2023</td>\n",
       "      <td>凯大催化</td>\n",
       "      <td>http://www.cninfo.com.cn/new/disclosure/detail...</td>\n",
       "    </tr>\n",
       "    <tr>\n",
       "      <th>169</th>\n",
       "      <td>831856</td>\n",
       "      <td>2023</td>\n",
       "      <td>浩淼科技</td>\n",
       "      <td>http://www.cninfo.com.cn/new/disclosure/detail...</td>\n",
       "    </tr>\n",
       "    <tr>\n",
       "      <th>50</th>\n",
       "      <td>834475</td>\n",
       "      <td>2023</td>\n",
       "      <td>三友科技</td>\n",
       "      <td>http://www.cninfo.com.cn/new/disclosure/detail...</td>\n",
       "    </tr>\n",
       "    <tr>\n",
       "      <th>107</th>\n",
       "      <td>839719</td>\n",
       "      <td>2023</td>\n",
       "      <td>宁新新材</td>\n",
       "      <td>http://www.cninfo.com.cn/new/disclosure/detail...</td>\n",
       "    </tr>\n",
       "    <tr>\n",
       "      <th>37</th>\n",
       "      <td>873576</td>\n",
       "      <td>2023</td>\n",
       "      <td>天力复合</td>\n",
       "      <td>http://www.cninfo.com.cn/new/disclosure/detail...</td>\n",
       "    </tr>\n",
       "  </tbody>\n",
       "</table>\n",
       "<p>162 rows × 4 columns</p>\n",
       "</div>"
      ],
      "text/plain": [
       "       code  year  name                                               link\n",
       "0    603019  2024  中科曙光  http://www.cninfo.com.cn/new/disclosure/detail...\n",
       "1    872808  2024  曙光数创  http://www.cninfo.com.cn/new/disclosure/detail...\n",
       "2    300353  2024  东土科技  http://www.cninfo.com.cn/new/disclosure/detail...\n",
       "3    000063  2024  中兴通讯  http://www.cninfo.com.cn/new/disclosure/detail...\n",
       "4    688041  2024  海光信息  http://www.cninfo.com.cn/new/disclosure/detail...\n",
       "..      ...   ...   ...                                                ...\n",
       "67   830974  2023  凯大催化  http://www.cninfo.com.cn/new/disclosure/detail...\n",
       "169  831856  2023  浩淼科技  http://www.cninfo.com.cn/new/disclosure/detail...\n",
       "50   834475  2023  三友科技  http://www.cninfo.com.cn/new/disclosure/detail...\n",
       "107  839719  2023  宁新新材  http://www.cninfo.com.cn/new/disclosure/detail...\n",
       "37   873576  2023  天力复合  http://www.cninfo.com.cn/new/disclosure/detail...\n",
       "\n",
       "[162 rows x 4 columns]"
      ]
     },
     "execution_count": 60,
     "metadata": {},
     "output_type": "execute_result"
    }
   ],
   "source": [
    "df = df[['code','year', 'name', 'link']]\n",
    "df"
   ]
  },
  {
   "cell_type": "code",
   "execution_count": 61,
   "metadata": {},
   "outputs": [],
   "source": [
    "df.to_csv('./Data/annual_report_cleaned.csv', index=False)"
   ]
  }
 ],
 "metadata": {
  "kernelspec": {
   "display_name": "web_scraping",
   "language": "python",
   "name": "python3"
  },
  "language_info": {
   "codemirror_mode": {
    "name": "ipython",
    "version": 3
   },
   "file_extension": ".py",
   "mimetype": "text/x-python",
   "name": "python",
   "nbconvert_exporter": "python",
   "pygments_lexer": "ipython3",
   "version": "3.9.20"
  }
 },
 "nbformat": 4,
 "nbformat_minor": 2
}
