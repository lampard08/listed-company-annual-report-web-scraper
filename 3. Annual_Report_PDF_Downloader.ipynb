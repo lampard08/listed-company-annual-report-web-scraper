{
 "cells": [
  {
   "cell_type": "markdown",
   "metadata": {},
   "source": [
    "# PDF Downloader"
   ]
  },
  {
   "cell_type": "code",
   "execution_count": 51,
   "metadata": {},
   "outputs": [],
   "source": [
    "import os\n",
    "import pandas as pd\n",
    "import re\n",
    "from selenium import webdriver\n",
    "from selenium.webdriver.chrome.service import Service\n",
    "from selenium.webdriver.common.by import By\n",
    "from selenium.webdriver.common.keys import Keys\n",
    "from selenium.webdriver.support.ui import WebDriverWait\n",
    "from selenium.webdriver.support import expected_conditions as EC\n",
    "from selenium.common.exceptions import TimeoutException\n",
    "from selenium.common.exceptions import NoSuchElementException\n",
    "from selenium.webdriver.common.action_chains import ActionChains\n",
    "from selenium.webdriver.chrome.options import Options\n",
    "import time"
   ]
  },
  {
   "cell_type": "code",
   "execution_count": 4,
   "metadata": {},
   "outputs": [
    {
     "data": {
      "application/vnd.microsoft.datawrangler.viewer.v0+json": {
       "columns": [
        {
         "name": "index",
         "rawType": "int64",
         "type": "integer"
        },
        {
         "name": "code",
         "rawType": "object",
         "type": "string"
        },
        {
         "name": "year",
         "rawType": "int32",
         "type": "integer"
        },
        {
         "name": "name",
         "rawType": "object",
         "type": "string"
        },
        {
         "name": "link",
         "rawType": "object",
         "type": "string"
        }
       ],
       "conversionMethod": "pd.DataFrame",
       "ref": "49139eb3-c724-4ea0-9eb1-f98a637573a4",
       "rows": [
        [
         "0",
         "603019",
         "2024",
         "中科曙光",
         "http://www.cninfo.com.cn/new/disclosure/detail?stockCode=603019&announcementId=1222707755&orgId=9900023134&announcementTime=2025-03-04"
        ],
        [
         "1",
         "872808",
         "2024",
         "曙光数创",
         "http://www.cninfo.com.cn/new/disclosure/detail?stockCode=872808&announcementId=1222707371&orgId=gfbj0872808&announcementTime=2025-03-03"
        ],
        [
         "2",
         "300353",
         "2024",
         "东土科技",
         "http://www.cninfo.com.cn/new/disclosure/detail?stockCode=300353&announcementId=1222694710&orgId=9900006124&announcementTime=2025-03-03"
        ],
        [
         "3",
         "000063",
         "2024",
         "中兴通讯",
         "http://www.cninfo.com.cn/new/disclosure/detail?stockCode=000063&announcementId=1222675749&orgId=gssz0000063&announcementTime=2025-02-28"
        ],
        [
         "4",
         "688041",
         "2024",
         "海光信息",
         "http://www.cninfo.com.cn/new/disclosure/detail?stockCode=688041&announcementId=1222675682&orgId=9900048365&announcementTime=2025-02-28"
        ]
       ],
       "shape": {
        "columns": 4,
        "rows": 5
       }
      },
      "text/html": [
       "<div>\n",
       "<style scoped>\n",
       "    .dataframe tbody tr th:only-of-type {\n",
       "        vertical-align: middle;\n",
       "    }\n",
       "\n",
       "    .dataframe tbody tr th {\n",
       "        vertical-align: top;\n",
       "    }\n",
       "\n",
       "    .dataframe thead th {\n",
       "        text-align: right;\n",
       "    }\n",
       "</style>\n",
       "<table border=\"1\" class=\"dataframe\">\n",
       "  <thead>\n",
       "    <tr style=\"text-align: right;\">\n",
       "      <th></th>\n",
       "      <th>code</th>\n",
       "      <th>year</th>\n",
       "      <th>name</th>\n",
       "      <th>link</th>\n",
       "    </tr>\n",
       "  </thead>\n",
       "  <tbody>\n",
       "    <tr>\n",
       "      <th>0</th>\n",
       "      <td>603019</td>\n",
       "      <td>2024</td>\n",
       "      <td>中科曙光</td>\n",
       "      <td>http://www.cninfo.com.cn/new/disclosure/detail...</td>\n",
       "    </tr>\n",
       "    <tr>\n",
       "      <th>1</th>\n",
       "      <td>872808</td>\n",
       "      <td>2024</td>\n",
       "      <td>曙光数创</td>\n",
       "      <td>http://www.cninfo.com.cn/new/disclosure/detail...</td>\n",
       "    </tr>\n",
       "    <tr>\n",
       "      <th>2</th>\n",
       "      <td>300353</td>\n",
       "      <td>2024</td>\n",
       "      <td>东土科技</td>\n",
       "      <td>http://www.cninfo.com.cn/new/disclosure/detail...</td>\n",
       "    </tr>\n",
       "    <tr>\n",
       "      <th>3</th>\n",
       "      <td>000063</td>\n",
       "      <td>2024</td>\n",
       "      <td>中兴通讯</td>\n",
       "      <td>http://www.cninfo.com.cn/new/disclosure/detail...</td>\n",
       "    </tr>\n",
       "    <tr>\n",
       "      <th>4</th>\n",
       "      <td>688041</td>\n",
       "      <td>2024</td>\n",
       "      <td>海光信息</td>\n",
       "      <td>http://www.cninfo.com.cn/new/disclosure/detail...</td>\n",
       "    </tr>\n",
       "  </tbody>\n",
       "</table>\n",
       "</div>"
      ],
      "text/plain": [
       "     code  year  name                                               link\n",
       "0  603019  2024  中科曙光  http://www.cninfo.com.cn/new/disclosure/detail...\n",
       "1  872808  2024  曙光数创  http://www.cninfo.com.cn/new/disclosure/detail...\n",
       "2  300353  2024  东土科技  http://www.cninfo.com.cn/new/disclosure/detail...\n",
       "3  000063  2024  中兴通讯  http://www.cninfo.com.cn/new/disclosure/detail...\n",
       "4  688041  2024  海光信息  http://www.cninfo.com.cn/new/disclosure/detail..."
      ]
     },
     "execution_count": 4,
     "metadata": {},
     "output_type": "execute_result"
    }
   ],
   "source": [
    "dtype_dict = {'code': str, 'name': str, 'year': int, 'link': str}\n",
    "df = pd.read_csv('./Data/annual_report_cleaned.csv', dtype=dtype_dict)\n",
    "df.head()"
   ]
  },
  {
   "cell_type": "markdown",
   "metadata": {},
   "source": [
    "For each link: \n",
    "1. Access url and download PDF file\n",
    "2. Append file local address to the Dataframe (Change your web browser's default downloading directory to your working directory)\n",
    "\n",
    "Objective Data Structure:\n",
    "- **code**\n",
    "- **year**\n",
    "- name\n",
    "- local file path"
   ]
  },
  {
   "cell_type": "code",
   "execution_count": 65,
   "metadata": {},
   "outputs": [],
   "source": [
    "driver_path = r\"C:\\Program Files\\Google\\chromedriver-win64\\chromedriver.exe\"  # your driver path\n",
    "service = Service(executable_path=driver_path)\n",
    "options = webdriver.ChromeOptions()\n",
    "options.add_argument(\n",
    "    \"user-agent=Mozilla/5.0 (Windows NT 10.0; Win64; x64) AppleWebKit/537.36 (KHTML, like Gecko) Chrome/130.0.0.0 Safari/537.36\"\n",
    ")"
   ]
  },
  {
   "cell_type": "code",
   "execution_count": 79,
   "metadata": {},
   "outputs": [],
   "source": [
    "driver = webdriver.Chrome(service=service, options=options)\n",
    "wait = WebDriverWait(driver, 10)\n",
    "driver.maximize_window()"
   ]
  },
  {
   "cell_type": "code",
   "execution_count": 80,
   "metadata": {},
   "outputs": [
    {
     "name": "stdout",
     "output_type": "stream",
     "text": [
      "Downloaded 21\n",
      "Downloaded 22\n",
      "Downloaded 23\n",
      "Downloaded 24\n",
      "Downloaded 25\n",
      "Downloaded 26\n",
      "Downloaded 27\n",
      "Downloaded 28\n",
      "Downloaded 29\n",
      "Downloaded 30\n",
      "Downloaded 31\n",
      "Downloaded 32\n",
      "Downloaded 33\n",
      "Downloaded 34\n",
      "Downloaded 35\n",
      "Downloaded 36\n",
      "Downloaded 37\n",
      "Downloaded 38\n",
      "Downloaded 39\n",
      "Downloaded 40\n",
      "Downloaded 41\n",
      "Downloaded 42\n",
      "Downloaded 43\n",
      "Downloaded 44\n",
      "Downloaded 45\n",
      "Downloaded 46\n",
      "Downloaded 47\n",
      "Downloaded 48\n",
      "Downloaded 49\n",
      "Downloaded 50\n",
      "All files downloaded\n"
     ]
    }
   ],
   "source": [
    "for i in range(20,50): # range(len(df))\n",
    "    link = df.loc[i, 'link']\n",
    "    driver.get(link)\n",
    "    time.sleep(2)\n",
    "\n",
    "    # retrieve file name information\n",
    "    name = df.loc[i, 'name']\n",
    "    name_ele = driver.find_element(By.XPATH, '//div[@class=\"title\"]')\n",
    "    name2 = name_ele.text\n",
    "\n",
    "    # format the file path\n",
    "    local_path = f'./Data/PDFs/{name}：{name2}.PDF'\n",
    "    # append the file path to the dataframe\n",
    "    df.loc[i, 'local_path'] = local_path\n",
    "\n",
    "    button = WebDriverWait(driver, 10).until(\n",
    "        EC.element_to_be_clickable((By.XPATH, '/html/body/div[1]/div/div[1]/div[3]/div[1]/button'))\n",
    "    )\n",
    "\n",
    "    # Click the download button\n",
    "    button.click()\n",
    "    time.sleep(0.5)\n",
    "    print(f'Downloaded {i+1}')\n",
    "\n",
    "# driver.quit()\n",
    "print('All files downloaded')\n"
   ]
  },
  {
   "cell_type": "code",
   "execution_count": 82,
   "metadata": {},
   "outputs": [],
   "source": [
    "df['local_path'] = df['local_path'].str.replace('*', '_')"
   ]
  },
  {
   "cell_type": "code",
   "execution_count": 84,
   "metadata": {},
   "outputs": [],
   "source": [
    "df = df.drop(columns='link')\n",
    "df.to_csv('./Data/annual_report_with_path.csv', index=False)"
   ]
  },
  {
   "cell_type": "code",
   "execution_count": null,
   "metadata": {},
   "outputs": [],
   "source": []
  }
 ],
 "metadata": {
  "kernelspec": {
   "display_name": "web_scraping",
   "language": "python",
   "name": "python3"
  },
  "language_info": {
   "codemirror_mode": {
    "name": "ipython",
    "version": 3
   },
   "file_extension": ".py",
   "mimetype": "text/x-python",
   "name": "python",
   "nbconvert_exporter": "python",
   "pygments_lexer": "ipython3",
   "version": "3.9.20"
  }
 },
 "nbformat": 4,
 "nbformat_minor": 2
}
