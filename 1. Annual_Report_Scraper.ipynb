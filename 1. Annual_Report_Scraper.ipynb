{
 "cells": [
  {
   "cell_type": "markdown",
   "id": "590b1bd4",
   "metadata": {},
   "source": [
    "# A Selenium-Based Web Scraper to scrape annual report on cninfo.com"
   ]
  },
  {
   "cell_type": "markdown",
   "id": "d946c90c",
   "metadata": {},
   "source": [
    "collect data into format:\n",
    "- code\n",
    "- name\n",
    "- title\n",
    "- link\n",
    "\n",
    "**primary key**: (code, name)"
   ]
  },
  {
   "cell_type": "code",
   "execution_count": 16,
   "id": "a3440f66-4c84-4028-8bff-6cae6c944218",
   "metadata": {
    "tags": []
   },
   "outputs": [],
   "source": [
    "import os\n",
    "import pandas as pd\n",
    "import numpy as np\n",
    "import re\n",
    "from selenium import webdriver\n",
    "from selenium.webdriver.chrome.service import Service\n",
    "from selenium.webdriver.common.by import By\n",
    "from selenium.webdriver.common.keys import Keys\n",
    "from selenium.webdriver.support.ui import WebDriverWait\n",
    "from selenium.webdriver.support import expected_conditions as EC\n",
    "from urllib.parse import quote\n",
    "from selenium.common.exceptions import TimeoutException\n",
    "from selenium.common.exceptions import NoSuchElementException\n",
    "import requests\n",
    "from bs4 import BeautifulSoup\n",
    "import json\n",
    "from selenium.webdriver.common.action_chains import ActionChains\n",
    "import time\n",
    "from urllib.parse import quote\n",
    "import json"
   ]
  },
  {
   "cell_type": "markdown",
   "id": "d2da7401",
   "metadata": {},
   "source": [
    "## 1. Initialize Webdriver"
   ]
  },
  {
   "cell_type": "code",
   "execution_count": 17,
   "id": "023f4dd0",
   "metadata": {},
   "outputs": [],
   "source": [
    "driver_path = r\"C:\\Program Files\\Google\\chromedriver-win64\\chromedriver.exe\" # your driver path\n",
    "service = Service(executable_path=driver_path)\n",
    "options = webdriver.ChromeOptions()\n",
    "options.add_argument(\n",
    "    \"user-agent=Mozilla/5.0 (Windows NT 10.0; Win64; x64) AppleWebKit/537.36 (KHTML, like Gecko) Chrome/130.0.0.0 Safari/537.36\"\n",
    ")"
   ]
  },
  {
   "cell_type": "code",
   "execution_count": 18,
   "id": "2e96c73f",
   "metadata": {},
   "outputs": [],
   "source": [
    "url = 'http://www.cninfo.com.cn/new/commonUrl/pageOfSearch?url=disclosure/list/search&lastPage=index' # url of cninfo.com homepage\n",
    "driver = webdriver.Chrome(service=service, options=options)\n",
    "driver.get(url)\n",
    "wait = WebDriverWait(driver, 10)\n",
    "driver.maximize_window()"
   ]
  },
  {
   "cell_type": "markdown",
   "id": "d50779fa",
   "metadata": {},
   "source": [
    "## 2. Customize Searching Keywords"
   ]
  },
  {
   "cell_type": "code",
   "execution_count": 5,
   "id": "8b0a2270",
   "metadata": {},
   "outputs": [],
   "source": [
    "# 选择年报\n",
    "nb_element = wait.until(EC.element_to_be_clickable((By.XPATH, '//span[@title=\"年报\" and contains(@class, \"cate-checkbox-txt\")]')))\n",
    "nb_element.click()"
   ]
  },
  {
   "cell_type": "code",
   "execution_count": null,
   "id": "fba580cb",
   "metadata": {},
   "outputs": [],
   "source": [
    "# 点击选择日期输入框\n",
    "time.sleep(2)\n",
    "date_input = wait.until(EC.element_to_be_clickable((By.CSS_SELECTOR, \".el-range-input:nth-child(2)\")))\n",
    "date_input.click()\n",
    "# 选择快捷日期——近三年\n",
    "quick_date = wait.until(EC.element_to_be_clickable((By.CSS_SELECTOR, \".el-picker-panel__shortcut:nth-child(8)\")))\n",
    "quick_date.click()"
   ]
  },
  {
   "cell_type": "code",
   "execution_count": 8,
   "id": "6332c6b7",
   "metadata": {},
   "outputs": [],
   "source": [
    "# 选择行业\n",
    "# 点击搜索按钮\n",
    "search_button = wait.until(EC.element_to_be_clickable((By.CSS_SELECTOR, \".el-col:nth-child(4) .el-button\")))\n",
    "search_button.click()"
   ]
  },
  {
   "cell_type": "code",
   "execution_count": 9,
   "id": "c1d604dd",
   "metadata": {},
   "outputs": [],
   "source": [
    "# 等待复选框出现\n",
    "checkboxes = wait.until(EC.presence_of_all_elements_located((By.CSS_SELECTOR, \".el-checkbox-group .el-checkbox\")))\n",
    "\n",
    "# 选择“制造业”\n",
    "for checkbox in checkboxes:\n",
    "    if checkbox.text.strip() == \"制造业\":\n",
    "        checkbox.click()\n",
    "        break\n",
    "\n",
    "# 等待一段时间以确保操作生效\n",
    "driver.implicitly_wait(2)\n",
    "\n",
    "# 退出复选框（点击页面其他部分退出）\n",
    "body_element = driver.find_element(By.TAG_NAME, \"body\")\n",
    "body_element.click()"
   ]
  },
  {
   "cell_type": "code",
   "execution_count": 10,
   "id": "de9b53ba",
   "metadata": {},
   "outputs": [],
   "source": [
    "# 点击搜索\n",
    "query_button = wait.until(EC.element_to_be_clickable((By.CSS_SELECTOR, \".query-btn\")))\n",
    "query_button.click()"
   ]
  },
  {
   "cell_type": "markdown",
   "id": "9d1b217e",
   "metadata": {},
   "source": [
    "## 3. Scrape Web Content\n",
    "+ “年度报告摘要”排除\n",
    "+ 附加一列链接"
   ]
  },
  {
   "cell_type": "markdown",
   "id": "725bedd4",
   "metadata": {},
   "source": [
    "### 3.1 爬取单页"
   ]
  },
  {
   "cell_type": "code",
   "execution_count": 43,
   "id": "a3fab87f",
   "metadata": {},
   "outputs": [],
   "source": [
    "# # 等待表格元素加载完成\n",
    "# table_locator = (By.CSS_SELECTOR, '#main > div.jc-layout.tab-ct > div:nth-child(1) > div.el-col.el-col-24.el-col-md-17 > div.el-table-box.el-table-box-history')\n",
    "# wait = WebDriverWait(driver, 10)\n",
    "# table = wait.until(EC.presence_of_element_located(table_locator))"
   ]
  },
  {
   "cell_type": "code",
   "execution_count": 44,
   "id": "74062345",
   "metadata": {},
   "outputs": [],
   "source": [
    "# # 提取表格列名\n",
    "# headers = [header.text for header in table.find_elements(By.XPATH, \".//th\")][:4]"
   ]
  },
  {
   "cell_type": "code",
   "execution_count": 45,
   "id": "bbf49d20",
   "metadata": {},
   "outputs": [],
   "source": [
    "# data = []"
   ]
  },
  {
   "cell_type": "code",
   "execution_count": 46,
   "id": "86616232",
   "metadata": {},
   "outputs": [],
   "source": [
    "# rows = table.find_elements(By.XPATH, \".//tbody/tr\")\n",
    "# for row in rows:\n",
    "#     # 获取行数据\n",
    "#     row_data = [cell.text for cell in row.find_elements(By.XPATH, \".//td\")]\n",
    "\n",
    "#     # 判断公告标题中是否包含“摘要”，如果包含则跳过当前行\n",
    "#     if '摘要' in row_data[headers.index('公告标题')]:\n",
    "#         continue\n",
    "\n",
    "#     # 提取第三列“公告标题”列的链接——即年报文本链接\n",
    "#     link = row.find_elements(By.XPATH, \".//td\")[headers.index('公告标题')].find_element(By.XPATH, \".//a\").get_attribute('href')\n",
    "\n",
    "#     # 添加链接到行数据中\n",
    "#     row_data.append(link)\n",
    "#     data.append(row_data)\n",
    "#     #print(row_data)\n",
    "# # data"
   ]
  },
  {
   "cell_type": "code",
   "execution_count": 47,
   "id": "90b9ffaf",
   "metadata": {
    "collapsed": true
   },
   "outputs": [
    {
     "data": {
      "text/html": [
       "<div>\n",
       "<style scoped>\n",
       "    .dataframe tbody tr th:only-of-type {\n",
       "        vertical-align: middle;\n",
       "    }\n",
       "\n",
       "    .dataframe tbody tr th {\n",
       "        vertical-align: top;\n",
       "    }\n",
       "\n",
       "    .dataframe thead th {\n",
       "        text-align: right;\n",
       "    }\n",
       "</style>\n",
       "<table border=\"1\" class=\"dataframe\">\n",
       "  <thead>\n",
       "    <tr style=\"text-align: right;\">\n",
       "      <th></th>\n",
       "      <th>代码</th>\n",
       "      <th>简称</th>\n",
       "      <th>公告标题</th>\n",
       "      <th>link</th>\n",
       "    </tr>\n",
       "  </thead>\n",
       "  <tbody>\n",
       "    <tr>\n",
       "      <th>0</th>\n",
       "      <td>603688</td>\n",
       "      <td>石英股份</td>\n",
       "      <td>江苏太平洋石英股份有限公司2023年年度报告</td>\n",
       "      <td>http://www.cninfo.com.cn/new/disclosure/detail...</td>\n",
       "    </tr>\n",
       "    <tr>\n",
       "      <th>1</th>\n",
       "      <td>600563</td>\n",
       "      <td>法拉电子</td>\n",
       "      <td>法拉电子2023年年度报告</td>\n",
       "      <td>http://www.cninfo.com.cn/new/disclosure/detail...</td>\n",
       "    </tr>\n",
       "    <tr>\n",
       "      <th>2</th>\n",
       "      <td>300999</td>\n",
       "      <td>金龙鱼</td>\n",
       "      <td>2023年年度报告</td>\n",
       "      <td>http://www.cninfo.com.cn/new/disclosure/detail...</td>\n",
       "    </tr>\n",
       "    <tr>\n",
       "      <th>3</th>\n",
       "      <td>688323</td>\n",
       "      <td>瑞华泰</td>\n",
       "      <td>瑞华泰：2023年年度报告</td>\n",
       "      <td>http://www.cninfo.com.cn/new/disclosure/detail...</td>\n",
       "    </tr>\n",
       "    <tr>\n",
       "      <th>4</th>\n",
       "      <td>600589</td>\n",
       "      <td>*ST榕泰</td>\n",
       "      <td>关于收到上海证券交易所对公司2023年年度报告的信息披露问询函的公告</td>\n",
       "      <td>http://www.cninfo.com.cn/new/disclosure/detail...</td>\n",
       "    </tr>\n",
       "    <tr>\n",
       "      <th>5</th>\n",
       "      <td>600055</td>\n",
       "      <td>万东医疗</td>\n",
       "      <td>万东医疗2023年年度报告</td>\n",
       "      <td>http://www.cninfo.com.cn/new/disclosure/detail...</td>\n",
       "    </tr>\n",
       "    <tr>\n",
       "      <th>6</th>\n",
       "      <td>600750</td>\n",
       "      <td>江中药业</td>\n",
       "      <td>江中药业2023年年度报告</td>\n",
       "      <td>http://www.cninfo.com.cn/new/disclosure/detail...</td>\n",
       "    </tr>\n",
       "    <tr>\n",
       "      <th>7</th>\n",
       "      <td>600075</td>\n",
       "      <td>新疆天业</td>\n",
       "      <td>新疆天业股份有限公司2023年度报告</td>\n",
       "      <td>http://www.cninfo.com.cn/new/disclosure/detail...</td>\n",
       "    </tr>\n",
       "    <tr>\n",
       "      <th>8</th>\n",
       "      <td>002519</td>\n",
       "      <td>银河电子</td>\n",
       "      <td>2023年年度报告</td>\n",
       "      <td>http://www.cninfo.com.cn/new/disclosure/detail...</td>\n",
       "    </tr>\n",
       "    <tr>\n",
       "      <th>9</th>\n",
       "      <td>600075</td>\n",
       "      <td>新疆天业</td>\n",
       "      <td>申万宏源证券承销保荐有限责任公司关于新疆天业股份有限公司2023年度持续督导年度报告书</td>\n",
       "      <td>http://www.cninfo.com.cn/new/disclosure/detail...</td>\n",
       "    </tr>\n",
       "    <tr>\n",
       "      <th>10</th>\n",
       "      <td>002519</td>\n",
       "      <td>银河电子</td>\n",
       "      <td>关于举办2023年年度报告网上说明会的公告</td>\n",
       "      <td>http://www.cninfo.com.cn/new/disclosure/detail...</td>\n",
       "    </tr>\n",
       "    <tr>\n",
       "      <th>11</th>\n",
       "      <td>603725</td>\n",
       "      <td>天安新材</td>\n",
       "      <td>光大证券股份有限公司关于广东天安新材料股份有限公司2023年度持续督导年度报告书</td>\n",
       "      <td>http://www.cninfo.com.cn/new/disclosure/detail...</td>\n",
       "    </tr>\n",
       "    <tr>\n",
       "      <th>12</th>\n",
       "      <td>600789</td>\n",
       "      <td>鲁抗医药</td>\n",
       "      <td>鲁抗医药2023年年度报告</td>\n",
       "      <td>http://www.cninfo.com.cn/new/disclosure/detail...</td>\n",
       "    </tr>\n",
       "    <tr>\n",
       "      <th>13</th>\n",
       "      <td>002226</td>\n",
       "      <td>江南化工</td>\n",
       "      <td>2023年年度报告</td>\n",
       "      <td>http://www.cninfo.com.cn/new/disclosure/detail...</td>\n",
       "    </tr>\n",
       "    <tr>\n",
       "      <th>14</th>\n",
       "      <td>002022</td>\n",
       "      <td>科华生物</td>\n",
       "      <td>2023年年度报告</td>\n",
       "      <td>http://www.cninfo.com.cn/new/disclosure/detail...</td>\n",
       "    </tr>\n",
       "    <tr>\n",
       "      <th>15</th>\n",
       "      <td>600332</td>\n",
       "      <td>白云山</td>\n",
       "      <td>广州白云山医药集团股份有限公司2023年年度报告全文（修订版）</td>\n",
       "      <td>http://www.cninfo.com.cn/new/disclosure/detail...</td>\n",
       "    </tr>\n",
       "    <tr>\n",
       "      <th>16</th>\n",
       "      <td>600332</td>\n",
       "      <td>白云山</td>\n",
       "      <td>广州白云山医药集团股份有限公司关于2023年年度报告的补充公告</td>\n",
       "      <td>http://www.cninfo.com.cn/new/disclosure/detail...</td>\n",
       "    </tr>\n",
       "    <tr>\n",
       "      <th>17</th>\n",
       "      <td>600835</td>\n",
       "      <td>上海机电</td>\n",
       "      <td>上海机电2023年年度报告</td>\n",
       "      <td>http://www.cninfo.com.cn/new/disclosure/detail...</td>\n",
       "    </tr>\n",
       "  </tbody>\n",
       "</table>\n",
       "</div>"
      ],
      "text/plain": [
       "        代码     简称                                         公告标题  \\\n",
       "0   603688   石英股份                       江苏太平洋石英股份有限公司2023年年度报告   \n",
       "1   600563   法拉电子                                法拉电子2023年年度报告   \n",
       "2   300999    金龙鱼                                    2023年年度报告   \n",
       "3   688323    瑞华泰                                瑞华泰：2023年年度报告   \n",
       "4   600589  *ST榕泰           关于收到上海证券交易所对公司2023年年度报告的信息披露问询函的公告   \n",
       "5   600055   万东医疗                                万东医疗2023年年度报告   \n",
       "6   600750   江中药业                                江中药业2023年年度报告   \n",
       "7   600075   新疆天业                           新疆天业股份有限公司2023年度报告   \n",
       "8   002519   银河电子                                    2023年年度报告   \n",
       "9   600075   新疆天业  申万宏源证券承销保荐有限责任公司关于新疆天业股份有限公司2023年度持续督导年度报告书   \n",
       "10  002519   银河电子                        关于举办2023年年度报告网上说明会的公告   \n",
       "11  603725   天安新材     光大证券股份有限公司关于广东天安新材料股份有限公司2023年度持续督导年度报告书   \n",
       "12  600789   鲁抗医药                                鲁抗医药2023年年度报告   \n",
       "13  002226   江南化工                                    2023年年度报告   \n",
       "14  002022   科华生物                                    2023年年度报告   \n",
       "15  600332    白云山              广州白云山医药集团股份有限公司2023年年度报告全文（修订版）   \n",
       "16  600332    白云山              广州白云山医药集团股份有限公司关于2023年年度报告的补充公告   \n",
       "17  600835   上海机电                                上海机电2023年年度报告   \n",
       "\n",
       "                                                 link  \n",
       "0   http://www.cninfo.com.cn/new/disclosure/detail...  \n",
       "1   http://www.cninfo.com.cn/new/disclosure/detail...  \n",
       "2   http://www.cninfo.com.cn/new/disclosure/detail...  \n",
       "3   http://www.cninfo.com.cn/new/disclosure/detail...  \n",
       "4   http://www.cninfo.com.cn/new/disclosure/detail...  \n",
       "5   http://www.cninfo.com.cn/new/disclosure/detail...  \n",
       "6   http://www.cninfo.com.cn/new/disclosure/detail...  \n",
       "7   http://www.cninfo.com.cn/new/disclosure/detail...  \n",
       "8   http://www.cninfo.com.cn/new/disclosure/detail...  \n",
       "9   http://www.cninfo.com.cn/new/disclosure/detail...  \n",
       "10  http://www.cninfo.com.cn/new/disclosure/detail...  \n",
       "11  http://www.cninfo.com.cn/new/disclosure/detail...  \n",
       "12  http://www.cninfo.com.cn/new/disclosure/detail...  \n",
       "13  http://www.cninfo.com.cn/new/disclosure/detail...  \n",
       "14  http://www.cninfo.com.cn/new/disclosure/detail...  \n",
       "15  http://www.cninfo.com.cn/new/disclosure/detail...  \n",
       "16  http://www.cninfo.com.cn/new/disclosure/detail...  \n",
       "17  http://www.cninfo.com.cn/new/disclosure/detail...  "
      ]
     },
     "execution_count": 47,
     "metadata": {},
     "output_type": "execute_result"
    }
   ],
   "source": [
    "# 创建 DataFrame\n",
    "# df = pd.DataFrame(data, columns=headers + ['link'])\n",
    "# df.drop(columns=['公告时间'], inplace=True)\n",
    "# df"
   ]
  },
  {
   "cell_type": "markdown",
   "id": "e0cc53bf",
   "metadata": {},
   "source": [
    "### 3.2 Turn to Next Page"
   ]
  },
  {
   "cell_type": "code",
   "execution_count": 42,
   "id": "3b9ee2aa",
   "metadata": {},
   "outputs": [],
   "source": [
    "# # 点击下一页按钮\n",
    "# next_page_button = driver.find_element(By.CSS_SELECTOR, \"#main > div.jc-layout.tab-ct > div:nth-child(1) > div.el-col.el-col-24.el-col-md-17 > div.new-pagination > div > button.btn-next\")\n",
    "# next_page_button.click()"
   ]
  },
  {
   "cell_type": "markdown",
   "id": "a1b12ae7",
   "metadata": {},
   "source": [
    "## 4. Wrap Up"
   ]
  },
  {
   "cell_type": "code",
   "execution_count": 11,
   "id": "11a3d548",
   "metadata": {},
   "outputs": [],
   "source": [
    "# 等待表格元素加载完成\n",
    "table_locator = (By.CSS_SELECTOR, '#main > div.jc-layout.tab-ct > div:nth-child(1) > div.el-col.el-col-24.el-col-md-17 > div.el-table-box.el-table-box-history')\n",
    "wait = WebDriverWait(driver, 10)\n",
    "table = wait.until(EC.presence_of_element_located(table_locator))\n",
    "# 提取表格列名\n",
    "headers = [header.text for header in table.find_elements(By.XPATH, \".//th\")][:4]"
   ]
  },
  {
   "cell_type": "code",
   "execution_count": 12,
   "id": "126d50e2",
   "metadata": {},
   "outputs": [
    {
     "name": "stdout",
     "output_type": "stream",
     "text": [
      "----已完成1页----\n",
      "----已完成2页----\n",
      "----已完成3页----\n",
      "----已完成4页----\n",
      "----已完成5页----\n",
      "----已完成6页----\n",
      "----已完成7页----\n",
      "----已完成8页----\n",
      "----已完成9页----\n",
      "----已完成10页----\n"
     ]
    }
   ],
   "source": [
    "# Loop：爬取《——》翻页\n",
    "all_data=[]\n",
    "for i in range(10): # e.g. sample 爬取前10页\n",
    "    # 爬取内容\n",
    "    # 等待表格元素加载完成\n",
    "    table_locator = (By.CSS_SELECTOR, '#main > div.jc-layout.tab-ct > div:nth-child(1) > div.el-col.el-col-24.el-col-md-17 > div.el-table-box.el-table-box-history')\n",
    "    wait = WebDriverWait(driver, 10)\n",
    "    table = wait.until(EC.presence_of_element_located(table_locator))\n",
    "    rows = table.find_elements(By.XPATH, \".//tbody/tr\")\n",
    "    data=[]\n",
    "    for row in rows:\n",
    "        # 获取行数据\n",
    "        row_data = [cell.text for cell in row.find_elements(By.XPATH, \".//td\")]\n",
    "\n",
    "        # 判断公告标题中是否包含“摘要”，如果包含则跳过当前行\n",
    "        if '摘要' in row_data[headers.index('公告标题')]:\n",
    "            continue\n",
    "\n",
    "        # 提取第三列“公告标题”列的链接——即年报文本链接\n",
    "        link = row.find_elements(By.XPATH, \".//td\")[headers.index('公告标题')].find_element(By.XPATH, \".//a\").get_attribute('href')\n",
    "\n",
    "        # 添加链接到行数据中\n",
    "        row_data.append(link)\n",
    "        data.append(row_data)\n",
    "    # 如果表格数据不为空，则将其追加到all_data中\n",
    "    if data:\n",
    "        all_data.extend(data)\n",
    "\n",
    "    # 点击下一页按钮\n",
    "    next_page_button = driver.find_element(By.CSS_SELECTOR, \"#main > div.jc-layout.tab-ct > div:nth-child(1) > div.el-col.el-col-24.el-col-md-17 > div.new-pagination > div > button.btn-next\")\n",
    "    next_page_button.click()\n",
    "\n",
    "    print(f'----已完成{i+1}页----')\n",
    "\n",
    "    # 等待新页面加载完成\n",
    "    # WebDriverWait(driver, 10).until(EC.presence_of_element_located((By.XPATH, \"//table[@class='table']\")))\n"
   ]
  },
  {
   "cell_type": "code",
   "execution_count": 13,
   "id": "9b81a82f",
   "metadata": {},
   "outputs": [
    {
     "data": {
      "application/vnd.microsoft.datawrangler.viewer.v0+json": {
       "columns": [
        {
         "name": "index",
         "rawType": "int64",
         "type": "integer"
        },
        {
         "name": "code",
         "rawType": "object",
         "type": "string"
        },
        {
         "name": "name",
         "rawType": "object",
         "type": "string"
        },
        {
         "name": "title",
         "rawType": "object",
         "type": "string"
        },
        {
         "name": "link",
         "rawType": "object",
         "type": "string"
        }
       ],
       "conversionMethod": "pd.DataFrame",
       "ref": "3296b12b-9139-4b95-8ee5-ff3e59e30843",
       "rows": [
        [
         "0",
         "603019",
         "中科曙光",
         "中科曙光2024年年度报告",
         "http://www.cninfo.com.cn/new/disclosure/detail?stockCode=603019&announcementId=1222707755&orgId=9900023134&announcementTime=2025-03-04"
        ],
        [
         "1",
         "872808",
         "曙光数创",
         "2024年年度报告",
         "http://www.cninfo.com.cn/new/disclosure/detail?stockCode=872808&announcementId=1222707371&orgId=gfbj0872808&announcementTime=2025-03-03"
        ],
        [
         "2",
         "300353",
         "东土科技",
         "2024年年度报告",
         "http://www.cninfo.com.cn/new/disclosure/detail?stockCode=300353&announcementId=1222694710&orgId=9900006124&announcementTime=2025-03-03"
        ],
        [
         "3",
         "000063",
         "中兴通讯",
         "2024年年度报告",
         "http://www.cninfo.com.cn/new/disclosure/detail?stockCode=000063&announcementId=1222675749&orgId=gssz0000063&announcementTime=2025-02-28"
        ],
        [
         "4",
         "688041",
         "海光信息",
         "海光信息技术股份有限公司2024年年度报告",
         "http://www.cninfo.com.cn/new/disclosure/detail?stockCode=688041&announcementId=1222675682&orgId=9900048365&announcementTime=2025-02-28"
        ],
        [
         "5",
         "300437",
         "清水源",
         "河南清水源科技股份有限公司2023年年度报告（更正后）",
         "http://www.cninfo.com.cn/new/disclosure/detail?stockCode=300437&announcementId=1222674726&orgId=9900023933&announcementTime=2025-02-28"
        ],
        [
         "6",
         "300437",
         "清水源",
         "河南清水源科技股份有限公司2022年年度报告（更正后）",
         "http://www.cninfo.com.cn/new/disclosure/detail?stockCode=300437&announcementId=1222674722&orgId=9900023933&announcementTime=2025-02-28"
        ],
        [
         "7",
         "300437",
         "清水源",
         "河南清水源科技股份有限公司2018年年度报告全文（更正后）",
         "http://www.cninfo.com.cn/new/disclosure/detail?stockCode=300437&announcementId=1222674729&orgId=9900023933&announcementTime=2025-02-28"
        ],
        [
         "8",
         "300437",
         "清水源",
         "河南清水源科技股份有限公司2017年年度报告全文（更正后）",
         "http://www.cninfo.com.cn/new/disclosure/detail?stockCode=300437&announcementId=1222674715&orgId=9900023933&announcementTime=2025-02-28"
        ],
        [
         "9",
         "300437",
         "清水源",
         "河南清水源科技股份有限公司2021年年度报告全文（更正后）",
         "http://www.cninfo.com.cn/new/disclosure/detail?stockCode=300437&announcementId=1222674716&orgId=9900023933&announcementTime=2025-02-28"
        ],
        [
         "10",
         "300437",
         "清水源",
         "河南清水源科技股份有限公司2020年年度报告全文（更正后）",
         "http://www.cninfo.com.cn/new/disclosure/detail?stockCode=300437&announcementId=1222674713&orgId=9900023933&announcementTime=2025-02-28"
        ],
        [
         "11",
         "300437",
         "清水源",
         "河南清水源科技股份有限公司2019年年度报告全文（更正后）",
         "http://www.cninfo.com.cn/new/disclosure/detail?stockCode=300437&announcementId=1222674710&orgId=9900023933&announcementTime=2025-02-28"
        ],
        [
         "12",
         "300437",
         "清水源",
         "河南清水源科技股份有限公司2016年年度报告全文（更正后）",
         "http://www.cninfo.com.cn/new/disclosure/detail?stockCode=300437&announcementId=1222674709&orgId=9900023933&announcementTime=2025-02-28"
        ],
        [
         "13",
         "600506",
         "统一股份",
         "统一低碳科技（新疆）股份有限公司2024年年度报告",
         "http://www.cninfo.com.cn/new/disclosure/detail?stockCode=600506&announcementId=1222673452&orgId=gssh0600506&announcementTime=2025-02-27"
        ],
        [
         "14",
         "001207",
         "联科科技",
         "2024年年度报告",
         "http://www.cninfo.com.cn/new/disclosure/detail?stockCode=001207&announcementId=1222663605&orgId=9900041710&announcementTime=2025-02-27"
        ],
        [
         "15",
         "603019",
         "中科曙光",
         "中科曙光2024年年度报告",
         "http://www.cninfo.com.cn/new/disclosure/detail?stockCode=603019&announcementId=1222707755&orgId=9900023134&announcementTime=2025-03-04"
        ],
        [
         "16",
         "872808",
         "曙光数创",
         "2024年年度报告",
         "http://www.cninfo.com.cn/new/disclosure/detail?stockCode=872808&announcementId=1222707371&orgId=gfbj0872808&announcementTime=2025-03-03"
        ],
        [
         "17",
         "300353",
         "东土科技",
         "2024年年度报告",
         "http://www.cninfo.com.cn/new/disclosure/detail?stockCode=300353&announcementId=1222694710&orgId=9900006124&announcementTime=2025-03-03"
        ],
        [
         "18",
         "000063",
         "中兴通讯",
         "2024年年度报告",
         "http://www.cninfo.com.cn/new/disclosure/detail?stockCode=002138&announcementId=1222663258&orgId=9900003163&announcementTime=2025-02-27"
        ],
        [
         "19",
         "002138",
         "顺络电子",
         "2024年年度报告",
         "http://www.cninfo.com.cn/new/disclosure/detail?stockCode=002138&announcementId=1222663234&orgId=9900003163&announcementTime=2025-02-27"
        ],
        [
         "20",
         "605077",
         "华康股份",
         "华康股份2024年年度报告",
         "http://www.cninfo.com.cn/new/disclosure/detail?stockCode=605077&announcementId=1222662617&orgId=9900039807&announcementTime=2025-02-27"
        ],
        [
         "21",
         "300842",
         "帝科股份",
         "2024年年度报告",
         "http://www.cninfo.com.cn/new/disclosure/detail?stockCode=300842&announcementId=1222662510&orgId=9900038394&announcementTime=2025-02-27"
        ],
        [
         "22",
         "002162",
         "悦心健康",
         "2024年年度报告",
         "http://www.cninfo.com.cn/new/disclosure/detail?stockCode=002162&announcementId=1222661912&orgId=9900003445&announcementTime=2025-02-27"
        ],
        [
         "23",
         "603009",
         "北特科技",
         "北特科技2024年年度报告",
         "http://www.cninfo.com.cn/new/disclosure/detail?stockCode=603009&announcementId=1222661481&orgId=9900022982&announcementTime=2025-02-27"
        ],
        [
         "24",
         "688082",
         "盛美上海",
         "2024年年度报告",
         "http://www.cninfo.com.cn/new/disclosure/detail?stockCode=688082&announcementId=1222651596&orgId=nssc1000455&announcementTime=2025-02-26"
        ],
        [
         "25",
         "002675",
         "东诚药业",
         "2024年年度报告",
         "http://www.cninfo.com.cn/new/disclosure/detail?stockCode=002675&announcementId=1222651114&orgId=9900022707&announcementTime=2025-02-26"
        ],
        [
         "26",
         "603196",
         "日播时尚",
         "日播时尚2024年年度报告",
         "http://www.cninfo.com.cn/new/disclosure/detail?stockCode=603196&announcementId=1222637762&orgId=9900031491&announcementTime=2025-02-25"
        ],
        [
         "27",
         "603050",
         "科林电气",
         "科林电气 2024年年度报告",
         "http://www.cninfo.com.cn/new/disclosure/detail?stockCode=603050&announcementId=1222627863&orgId=9900023860&announcementTime=2025-02-24"
        ],
        [
         "28",
         "301522",
         "上大股份",
         "2024年年度报告",
         "http://www.cninfo.com.cn/new/disclosure/detail?stockCode=301522&announcementId=1222627492&orgId=9900056251&announcementTime=2025-02-24"
        ],
        [
         "29",
         "600535",
         "天士力",
         "天士力2024年年度报告",
         "http://www.cninfo.com.cn/new/disclosure/detail?stockCode=600535&announcementId=1222626583&orgId=gssh0600535&announcementTime=2025-02-24"
        ],
        [
         "30",
         "300708",
         "聚灿光电",
         "2024年年度报告",
         "http://www.cninfo.com.cn/new/disclosure/detail?stockCode=300708&announcementId=1222431163&orgId=9900031433&announcementTime=2025-01-24"
        ],
        [
         "31",
         "688100",
         "威胜信息",
         "2024年年度报告",
         "http://www.cninfo.com.cn/new/disclosure/detail?stockCode=688100&announcementId=1222663570&orgId=9900039047&announcementTime=2025-02-27"
        ],
        [
         "32",
         "002271",
         "东方雨虹",
         "2024年年度报告",
         "http://www.cninfo.com.cn/new/disclosure/detail?stockCode=002271&announcementId=1222663514&orgId=9900005238&announcementTime=2025-02-27"
        ],
        [
         "33",
         "600299",
         "安迪苏",
         "安迪苏2024年年度报告",
         "http://www.cninfo.com.cn/new/disclosure/detail?stockCode=600299&announcementId=1222663425&orgId=gssh0600299&announcementTime=2025-02-27"
        ],
        [
         "34",
         "002138",
         "顺络电子",
         "2024年年度报告",
         "http://www.cninfo.com.cn/new/disclosure/detail?stockCode=002138&announcementId=1222663234&orgId=9900003163&announcementTime=2025-02-27"
        ],
        [
         "35",
         "300632",
         "光莆股份",
         "2023年年度报告（更正后）",
         "http://www.cninfo.com.cn/new/disclosure/detail?stockCode=300632&announcementId=1222115086&orgId=gfbj0430568&announcementTime=2024-12-23"
        ],
        [
         "36",
         "300632",
         "光莆股份",
         "2022年年度报告（更正后）",
         "http://www.cninfo.com.cn/new/disclosure/detail?stockCode=300632&announcementId=1222115078&orgId=gfbj0430568&announcementTime=2024-12-23"
        ],
        [
         "37",
         "873576",
         "天力复合",
         "2023年年度报告（更正公告）",
         "http://www.cninfo.com.cn/new/disclosure/detail?stockCode=873576&announcementId=1221941789&orgId=gfbj0873576&announcementTime=2024-12-04"
        ],
        [
         "38",
         "873576",
         "天力复合",
         "2023年年度报告（更正后）",
         "http://www.cninfo.com.cn/new/disclosure/detail?stockCode=873576&announcementId=1221941782&orgId=gfbj0873576&announcementTime=2024-12-04"
        ],
        [
         "39",
         "002097",
         "山河智能",
         "2023年年度报告全文（更新后）",
         "http://www.cninfo.com.cn/new/disclosure/detail?stockCode=002097&announcementId=1221570452&orgId=9900001621&announcementTime=2024-10-30"
        ],
        [
         "40",
         "002097",
         "山河智能",
         "2021年年度报告全文（更新后）",
         "http://www.cninfo.com.cn/new/disclosure/detail?stockCode=002097&announcementId=1221570442&orgId=9900001621&announcementTime=2024-10-30"
        ],
        [
         "41",
         "002097",
         "山河智能",
         "2020年年度报告全文（更新后）",
         "http://www.cninfo.com.cn/new/disclosure/detail?stockCode=002097&announcementId=1221570439&orgId=9900001621&announcementTime=2024-10-30"
        ],
        [
         "42",
         "002097",
         "山河智能",
         "2022年年度报告（更新后）",
         "http://www.cninfo.com.cn/new/disclosure/detail?stockCode=002097&announcementId=1221570432&orgId=9900001621&announcementTime=2024-10-30"
        ],
        [
         "43",
         "002825",
         "纳尔股份",
         "上海纳尔实业股份有限公司2023年年度报告(更正后)",
         "http://www.cninfo.com.cn/new/disclosure/detail?stockCode=002825&announcementId=1221523417&orgId=9900028910&announcementTime=2024-10-27"
        ],
        [
         "44",
         "002413",
         "雷科防务",
         "2023年年度报告（更新后）",
         "http://www.cninfo.com.cn/new/disclosure/detail?stockCode=002413&announcementId=1221489979&orgId=9900012690&announcementTime=2024-10-23"
        ],
        [
         "45",
         "688516",
         "奥特维",
         "无锡奥特维科技股份有限公司2024年半年度报告英文版",
         "http://www.cninfo.com.cn/new/disclosure/detail?stockCode=688516&announcementId=1221474216&orgId=gfbj0836288&announcementTime=2024-10-22"
        ],
        [
         "46",
         "603839",
         "安正时尚",
         "安正时尚集团股份有限公司2023年年度报告（更正后）",
         "http://www.cninfo.com.cn/new/disclosure/detail?stockCode=603839&announcementId=1221258604&orgId=9900030003&announcementTime=2024-09-20"
        ],
        [
         "47",
         "002569",
         "ST步森",
         "2023年年度报告（补充更正后）",
         "http://www.cninfo.com.cn/new/disclosure/detail?stockCode=002569&announcementId=1221158964&orgId=9900019034&announcementTime=2024-09-06"
        ],
        [
         "48",
         "002569",
         "ST步森",
         "2022年年度报告（补充更正后）",
         "http://www.cninfo.com.cn/new/disclosure/detail?stockCode=002569&announcementId=1221158959&orgId=9900019034&announcementTime=2024-09-06"
        ],
        [
         "49",
         "002569",
         "ST步森",
         "2021年年度报告全文（补充更正后）",
         "http://www.cninfo.com.cn/new/disclosure/detail?stockCode=002569&announcementId=1221158953&orgId=9900019034&announcementTime=2024-09-06"
        ]
       ],
       "shape": {
        "columns": 4,
        "rows": 228
       }
      },
      "text/html": [
       "<div>\n",
       "<style scoped>\n",
       "    .dataframe tbody tr th:only-of-type {\n",
       "        vertical-align: middle;\n",
       "    }\n",
       "\n",
       "    .dataframe tbody tr th {\n",
       "        vertical-align: top;\n",
       "    }\n",
       "\n",
       "    .dataframe thead th {\n",
       "        text-align: right;\n",
       "    }\n",
       "</style>\n",
       "<table border=\"1\" class=\"dataframe\">\n",
       "  <thead>\n",
       "    <tr style=\"text-align: right;\">\n",
       "      <th></th>\n",
       "      <th>code</th>\n",
       "      <th>name</th>\n",
       "      <th>title</th>\n",
       "      <th>link</th>\n",
       "    </tr>\n",
       "  </thead>\n",
       "  <tbody>\n",
       "    <tr>\n",
       "      <th>0</th>\n",
       "      <td>603019</td>\n",
       "      <td>中科曙光</td>\n",
       "      <td>中科曙光2024年年度报告</td>\n",
       "      <td>http://www.cninfo.com.cn/new/disclosure/detail...</td>\n",
       "    </tr>\n",
       "    <tr>\n",
       "      <th>1</th>\n",
       "      <td>872808</td>\n",
       "      <td>曙光数创</td>\n",
       "      <td>2024年年度报告</td>\n",
       "      <td>http://www.cninfo.com.cn/new/disclosure/detail...</td>\n",
       "    </tr>\n",
       "    <tr>\n",
       "      <th>2</th>\n",
       "      <td>300353</td>\n",
       "      <td>东土科技</td>\n",
       "      <td>2024年年度报告</td>\n",
       "      <td>http://www.cninfo.com.cn/new/disclosure/detail...</td>\n",
       "    </tr>\n",
       "    <tr>\n",
       "      <th>3</th>\n",
       "      <td>000063</td>\n",
       "      <td>中兴通讯</td>\n",
       "      <td>2024年年度报告</td>\n",
       "      <td>http://www.cninfo.com.cn/new/disclosure/detail...</td>\n",
       "    </tr>\n",
       "    <tr>\n",
       "      <th>4</th>\n",
       "      <td>688041</td>\n",
       "      <td>海光信息</td>\n",
       "      <td>海光信息技术股份有限公司2024年年度报告</td>\n",
       "      <td>http://www.cninfo.com.cn/new/disclosure/detail...</td>\n",
       "    </tr>\n",
       "    <tr>\n",
       "      <th>...</th>\n",
       "      <td>...</td>\n",
       "      <td>...</td>\n",
       "      <td>...</td>\n",
       "      <td>...</td>\n",
       "    </tr>\n",
       "    <tr>\n",
       "      <th>223</th>\n",
       "      <td>603008</td>\n",
       "      <td>喜临门</td>\n",
       "      <td>喜临门家具股份有限公司2023年年度报告（更正后）</td>\n",
       "      <td>http://www.cninfo.com.cn/new/disclosure/detail...</td>\n",
       "    </tr>\n",
       "    <tr>\n",
       "      <th>224</th>\n",
       "      <td>300398</td>\n",
       "      <td>飞凯材料</td>\n",
       "      <td>2023年年度报告（更新后）</td>\n",
       "      <td>http://www.cninfo.com.cn/new/disclosure/detail...</td>\n",
       "    </tr>\n",
       "    <tr>\n",
       "      <th>225</th>\n",
       "      <td>300398</td>\n",
       "      <td>飞凯材料</td>\n",
       "      <td>2021年年度报告（更正后）</td>\n",
       "      <td>http://www.cninfo.com.cn/new/disclosure/detail...</td>\n",
       "    </tr>\n",
       "    <tr>\n",
       "      <th>226</th>\n",
       "      <td>300398</td>\n",
       "      <td>飞凯材料</td>\n",
       "      <td>2022年年度报告（更正后）</td>\n",
       "      <td>http://www.cninfo.com.cn/new/disclosure/detail...</td>\n",
       "    </tr>\n",
       "    <tr>\n",
       "      <th>227</th>\n",
       "      <td>603685</td>\n",
       "      <td>晨丰科技</td>\n",
       "      <td>晨丰科技2023年年度报告全文（修订版）</td>\n",
       "      <td>http://www.cninfo.com.cn/new/disclosure/detail...</td>\n",
       "    </tr>\n",
       "  </tbody>\n",
       "</table>\n",
       "<p>228 rows × 4 columns</p>\n",
       "</div>"
      ],
      "text/plain": [
       "       code  name                      title  \\\n",
       "0    603019  中科曙光              中科曙光2024年年度报告   \n",
       "1    872808  曙光数创                  2024年年度报告   \n",
       "2    300353  东土科技                  2024年年度报告   \n",
       "3    000063  中兴通讯                  2024年年度报告   \n",
       "4    688041  海光信息      海光信息技术股份有限公司2024年年度报告   \n",
       "..      ...   ...                        ...   \n",
       "223  603008   喜临门  喜临门家具股份有限公司2023年年度报告（更正后）   \n",
       "224  300398  飞凯材料             2023年年度报告（更新后）   \n",
       "225  300398  飞凯材料             2021年年度报告（更正后）   \n",
       "226  300398  飞凯材料             2022年年度报告（更正后）   \n",
       "227  603685  晨丰科技       晨丰科技2023年年度报告全文（修订版）   \n",
       "\n",
       "                                                  link  \n",
       "0    http://www.cninfo.com.cn/new/disclosure/detail...  \n",
       "1    http://www.cninfo.com.cn/new/disclosure/detail...  \n",
       "2    http://www.cninfo.com.cn/new/disclosure/detail...  \n",
       "3    http://www.cninfo.com.cn/new/disclosure/detail...  \n",
       "4    http://www.cninfo.com.cn/new/disclosure/detail...  \n",
       "..                                                 ...  \n",
       "223  http://www.cninfo.com.cn/new/disclosure/detail...  \n",
       "224  http://www.cninfo.com.cn/new/disclosure/detail...  \n",
       "225  http://www.cninfo.com.cn/new/disclosure/detail...  \n",
       "226  http://www.cninfo.com.cn/new/disclosure/detail...  \n",
       "227  http://www.cninfo.com.cn/new/disclosure/detail...  \n",
       "\n",
       "[228 rows x 4 columns]"
      ]
     },
     "execution_count": 13,
     "metadata": {},
     "output_type": "execute_result"
    }
   ],
   "source": [
    "# 创建 DataFrame\n",
    "df = pd.DataFrame(all_data, columns=headers + ['link'])\n",
    "df.drop(columns=['公告时间'], inplace=True)\n",
    "df.rename(columns={'代码':'code', '简称':'name', '公告标题':'title'}, inplace=True)\n",
    "df"
   ]
  },
  {
   "cell_type": "code",
   "execution_count": 15,
   "id": "4bd6f09d",
   "metadata": {},
   "outputs": [],
   "source": [
    "# export to excel\n",
    "df.to_csv(r'./Data/annual_report_10pages.csv',index=False)"
   ]
  }
 ],
 "metadata": {
  "kernelspec": {
   "display_name": "web_scraping",
   "language": "python",
   "name": "python3"
  },
  "language_info": {
   "codemirror_mode": {
    "name": "ipython",
    "version": 3
   },
   "file_extension": ".py",
   "mimetype": "text/x-python",
   "name": "python",
   "nbconvert_exporter": "python",
   "pygments_lexer": "ipython3",
   "version": "3.9.20"
  }
 },
 "nbformat": 4,
 "nbformat_minor": 5
}
